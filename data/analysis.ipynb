{
 "cells": [
  {
   "cell_type": "markdown",
   "metadata": {},
   "source": [
    "# Анализ данных о криптовалютах полученных с CryptoRank.io и bscscan.com"
   ]
  },
  {
   "cell_type": "markdown",
   "metadata": {},
   "source": [
    "## Объединение данных полученных из разных источников"
   ]
  },
  {
   "cell_type": "code",
   "execution_count": 297,
   "metadata": {},
   "outputs": [],
   "source": [
    "import json\n",
    "import pandas as pd\n",
    "import sys\n",
    "\n",
    "# Функция для конвертации данных из JSON в DataFrame и сохранения в CSV файл\n",
    "def to_df(filename):\n",
    "    # Открываем JSON файл для чтения\n",
    "    with open(filename, 'r', encoding='utf-8') as json_file:\n",
    "        # Загружаем данные из JSON файла\n",
    "        data = json.load(json_file)\n",
    "\n",
    "    # Создаем DataFrame из данных\n",
    "    df = pd.DataFrame(data)\n",
    "\n",
    "    # Сохраняем DataFrame в CSV файл с тем же именем, что и у исходного JSON файла, но с расширением .csv\n",
    "    df.to_csv(f'{filename.split(\".json\")[0]}.csv', index=False, sep=';')\n",
    "\n",
    "    # Возвращаем DataFrame\n",
    "    return df\n",
    "\n",
    "# Вызываем функцию to_df для файла 'coin_data.json'\n",
    "scan = to_df('coin_data.json')\n",
    "\n",
    "# Открываем JSON файл 'contract_data.json' для чтения\n",
    "with open(\"contract_data.json\", 'r') as json_file:\n",
    "    # Загружаем данные из JSON файла\n",
    "    data = json.load(json_file)"
   ]
  },
  {
   "cell_type": "code",
   "execution_count": 298,
   "metadata": {},
   "outputs": [
    {
     "data": {
      "text/html": [
       "<div>\n",
       "<style scoped>\n",
       "    .dataframe tbody tr th:only-of-type {\n",
       "        vertical-align: middle;\n",
       "    }\n",
       "\n",
       "    .dataframe tbody tr th {\n",
       "        vertical-align: top;\n",
       "    }\n",
       "\n",
       "    .dataframe thead th {\n",
       "        text-align: right;\n",
       "    }\n",
       "</style>\n",
       "<table border=\"1\" class=\"dataframe\">\n",
       "  <thead>\n",
       "    <tr style=\"text-align: right;\">\n",
       "      <th></th>\n",
       "      <th>name</th>\n",
       "      <th>code</th>\n",
       "      <th>lifeCycle</th>\n",
       "    </tr>\n",
       "  </thead>\n",
       "  <tbody>\n",
       "    <tr>\n",
       "      <th>0</th>\n",
       "      <td>ZeniCoin</td>\n",
       "      <td>pragma solidity ^0.6.12;\\r\\n\\r\\n// SPDX-Licens...</td>\n",
       "      <td>1</td>\n",
       "    </tr>\n",
       "    <tr>\n",
       "      <th>1</th>\n",
       "      <td>DexGen</td>\n",
       "      <td>/*\\r\\n// Official DxFee Token\\r\\n// To Mint yo...</td>\n",
       "      <td>1</td>\n",
       "    </tr>\n",
       "    <tr>\n",
       "      <th>2</th>\n",
       "      <td>BAMBI</td>\n",
       "      <td>// SPDX-License-Identifier: MIT\\n\\n\\n\\n\\n\\n\\n\\...</td>\n",
       "      <td>1</td>\n",
       "    </tr>\n",
       "    <tr>\n",
       "      <th>3</th>\n",
       "      <td>Pinky Swear</td>\n",
       "      <td>/**\\r\\n// SPDX-License-Identifier: MIT\\r\\n\\r\\n...</td>\n",
       "      <td>1</td>\n",
       "    </tr>\n",
       "    <tr>\n",
       "      <th>4</th>\n",
       "      <td>RawKit</td>\n",
       "      <td>/*\\r\\n// Official DxFee Token\\r\\n// To Mint yo...</td>\n",
       "      <td>1</td>\n",
       "    </tr>\n",
       "    <tr>\n",
       "      <th>...</th>\n",
       "      <td>...</td>\n",
       "      <td>...</td>\n",
       "      <td>...</td>\n",
       "    </tr>\n",
       "    <tr>\n",
       "      <th>131</th>\n",
       "      <td>MarkpsTokAmnt</td>\n",
       "      <td>// SPDX-License-Identifier: MIT\\r\\npragma soli...</td>\n",
       "      <td>1</td>\n",
       "    </tr>\n",
       "    <tr>\n",
       "      <th>132</th>\n",
       "      <td>MarkDec19PS</td>\n",
       "      <td>// SPDX-License-Identifier: MIT\\r\\npragma soli...</td>\n",
       "      <td>1</td>\n",
       "    </tr>\n",
       "    <tr>\n",
       "      <th>133</th>\n",
       "      <td>MarkDec09OF</td>\n",
       "      <td>// SPDX-License-Identifier: MIT\\r\\npragma soli...</td>\n",
       "      <td>1</td>\n",
       "    </tr>\n",
       "    <tr>\n",
       "      <th>134</th>\n",
       "      <td>MarkDec1OF</td>\n",
       "      <td>// SPDX-License-Identifier: MIT\\r\\npragma soli...</td>\n",
       "      <td>1</td>\n",
       "    </tr>\n",
       "    <tr>\n",
       "      <th>135</th>\n",
       "      <td>MarkDec1PS</td>\n",
       "      <td>// SPDX-License-Identifier: MIT\\r\\npragma soli...</td>\n",
       "      <td>1</td>\n",
       "    </tr>\n",
       "  </tbody>\n",
       "</table>\n",
       "<p>136 rows × 3 columns</p>\n",
       "</div>"
      ],
      "text/plain": [
       "              name                                               code  \\\n",
       "0         ZeniCoin  pragma solidity ^0.6.12;\\r\\n\\r\\n// SPDX-Licens...   \n",
       "1           DexGen  /*\\r\\n// Official DxFee Token\\r\\n// To Mint yo...   \n",
       "2            BAMBI  // SPDX-License-Identifier: MIT\\n\\n\\n\\n\\n\\n\\n\\...   \n",
       "3      Pinky Swear  /**\\r\\n// SPDX-License-Identifier: MIT\\r\\n\\r\\n...   \n",
       "4           RawKit  /*\\r\\n// Official DxFee Token\\r\\n// To Mint yo...   \n",
       "..             ...                                                ...   \n",
       "131  MarkpsTokAmnt  // SPDX-License-Identifier: MIT\\r\\npragma soli...   \n",
       "132    MarkDec19PS  // SPDX-License-Identifier: MIT\\r\\npragma soli...   \n",
       "133    MarkDec09OF  // SPDX-License-Identifier: MIT\\r\\npragma soli...   \n",
       "134     MarkDec1OF  // SPDX-License-Identifier: MIT\\r\\npragma soli...   \n",
       "135     MarkDec1PS  // SPDX-License-Identifier: MIT\\r\\npragma soli...   \n",
       "\n",
       "     lifeCycle  \n",
       "0            1  \n",
       "1            1  \n",
       "2            1  \n",
       "3            1  \n",
       "4            1  \n",
       "..         ...  \n",
       "131          1  \n",
       "132          1  \n",
       "133          1  \n",
       "134          1  \n",
       "135          1  \n",
       "\n",
       "[136 rows x 3 columns]"
      ]
     },
     "execution_count": 298,
     "metadata": {},
     "output_type": "execute_result"
    }
   ],
   "source": [
    "\n",
    "dx_df = pd.read_csv('dx_codes.csv')\n",
    "dx_df = dx_df[['name', 'code', 'is_web_live']]\n",
    "dx_df['lifeCycle'] = dx_df['is_web_live'].apply(lambda x: int(x))\n",
    "dx_df.drop(columns=['is_web_live'], inplace=True)\n",
    "dx_df"
   ]
  },
  {
   "cell_type": "code",
   "execution_count": 299,
   "metadata": {},
   "outputs": [
    {
     "data": {
      "text/html": [
       "<div>\n",
       "<style scoped>\n",
       "    .dataframe tbody tr th:only-of-type {\n",
       "        vertical-align: middle;\n",
       "    }\n",
       "\n",
       "    .dataframe tbody tr th {\n",
       "        vertical-align: top;\n",
       "    }\n",
       "\n",
       "    .dataframe thead th {\n",
       "        text-align: right;\n",
       "    }\n",
       "</style>\n",
       "<table border=\"1\" class=\"dataframe\">\n",
       "  <thead>\n",
       "    <tr style=\"text-align: right;\">\n",
       "      <th></th>\n",
       "      <th>name</th>\n",
       "      <th>code</th>\n",
       "      <th>lifeCycle</th>\n",
       "    </tr>\n",
       "  </thead>\n",
       "  <tbody>\n",
       "    <tr>\n",
       "      <th>0</th>\n",
       "      <td>EOS</td>\n",
       "      <td>pragma solidity 0.5.16;\\r\\n\\r\\ninterface IBEP2...</td>\n",
       "      <td>1</td>\n",
       "    </tr>\n",
       "    <tr>\n",
       "      <th>1</th>\n",
       "      <td>XRP</td>\n",
       "      <td>pragma solidity 0.5.16;\\r\\n\\r\\ninterface IBEP2...</td>\n",
       "      <td>1</td>\n",
       "    </tr>\n",
       "    <tr>\n",
       "      <th>2</th>\n",
       "      <td>Cardano</td>\n",
       "      <td>pragma solidity 0.5.16;\\r\\n\\r\\ninterface IBEP2...</td>\n",
       "      <td>1</td>\n",
       "    </tr>\n",
       "    <tr>\n",
       "      <th>3</th>\n",
       "      <td>Litecoin</td>\n",
       "      <td>/**\\r\\n *Submitted for verification at Bscscan...</td>\n",
       "      <td>1</td>\n",
       "    </tr>\n",
       "    <tr>\n",
       "      <th>4</th>\n",
       "      <td>Bitcoin Cash</td>\n",
       "      <td>pragma solidity 0.5.16;\\r\\n\\r\\ninterface IBEP2...</td>\n",
       "      <td>1</td>\n",
       "    </tr>\n",
       "    <tr>\n",
       "      <th>...</th>\n",
       "      <td>...</td>\n",
       "      <td>...</td>\n",
       "      <td>...</td>\n",
       "    </tr>\n",
       "    <tr>\n",
       "      <th>237</th>\n",
       "      <td>Moola</td>\n",
       "      <td>pragma solidity ^0.4.15;\\r\\n//Owner Contract-F...</td>\n",
       "      <td>0</td>\n",
       "    </tr>\n",
       "    <tr>\n",
       "      <th>238</th>\n",
       "      <td>Ethouse</td>\n",
       "      <td>pragma solidity ^0.4.13;\\r\\n\\r\\ncontract ERC20...</td>\n",
       "      <td>0</td>\n",
       "    </tr>\n",
       "    <tr>\n",
       "      <th>239</th>\n",
       "      <td>CoinFi</td>\n",
       "      <td>pragma solidity ^0.4.18;\\r\\n\\r\\n\\r\\n/**\\r\\n * ...</td>\n",
       "      <td>1</td>\n",
       "    </tr>\n",
       "    <tr>\n",
       "      <th>240</th>\n",
       "      <td>GET Protocol</td>\n",
       "      <td>pragma solidity ^0.4.11;\\r\\n/**\\r\\n * @title E...</td>\n",
       "      <td>1</td>\n",
       "    </tr>\n",
       "    <tr>\n",
       "      <th>241</th>\n",
       "      <td>Circuits of Value</td>\n",
       "      <td>// File: zos-lib/contracts/upgradeability/Prox...</td>\n",
       "      <td>1</td>\n",
       "    </tr>\n",
       "  </tbody>\n",
       "</table>\n",
       "<p>242 rows × 3 columns</p>\n",
       "</div>"
      ],
      "text/plain": [
       "                  name                                               code  \\\n",
       "0                  EOS  pragma solidity 0.5.16;\\r\\n\\r\\ninterface IBEP2...   \n",
       "1                  XRP  pragma solidity 0.5.16;\\r\\n\\r\\ninterface IBEP2...   \n",
       "2              Cardano  pragma solidity 0.5.16;\\r\\n\\r\\ninterface IBEP2...   \n",
       "3             Litecoin  /**\\r\\n *Submitted for verification at Bscscan...   \n",
       "4         Bitcoin Cash  pragma solidity 0.5.16;\\r\\n\\r\\ninterface IBEP2...   \n",
       "..                 ...                                                ...   \n",
       "237              Moola  pragma solidity ^0.4.15;\\r\\n//Owner Contract-F...   \n",
       "238            Ethouse  pragma solidity ^0.4.13;\\r\\n\\r\\ncontract ERC20...   \n",
       "239             CoinFi  pragma solidity ^0.4.18;\\r\\n\\r\\n\\r\\n/**\\r\\n * ...   \n",
       "240       GET Protocol  pragma solidity ^0.4.11;\\r\\n/**\\r\\n * @title E...   \n",
       "241  Circuits of Value  // File: zos-lib/contracts/upgradeability/Prox...   \n",
       "\n",
       "     lifeCycle  \n",
       "0            1  \n",
       "1            1  \n",
       "2            1  \n",
       "3            1  \n",
       "4            1  \n",
       "..         ...  \n",
       "237          0  \n",
       "238          0  \n",
       "239          1  \n",
       "240          1  \n",
       "241          1  \n",
       "\n",
       "[242 rows x 3 columns]"
      ]
     },
     "execution_count": 299,
     "metadata": {},
     "output_type": "execute_result"
    }
   ],
   "source": [
    "cryptorank_df = pd.read_csv('cryptorank_codes.csv')\n",
    "cryptorank_df = cryptorank_df[~(cryptorank_df['lifeCycle'] == 'crowdsale')]\n",
    "cryptorank_df['lifeCycle'] = cryptorank_df['lifeCycle'].apply(lambda x: 1 if x == 'traded' else 0)\n",
    "cryptorank_df"
   ]
  },
  {
   "cell_type": "code",
   "execution_count": 300,
   "metadata": {
    "scrolled": true
   },
   "outputs": [
    {
     "data": {
      "text/html": [
       "<div>\n",
       "<style scoped>\n",
       "    .dataframe tbody tr th:only-of-type {\n",
       "        vertical-align: middle;\n",
       "    }\n",
       "\n",
       "    .dataframe tbody tr th {\n",
       "        vertical-align: top;\n",
       "    }\n",
       "\n",
       "    .dataframe thead th {\n",
       "        text-align: right;\n",
       "    }\n",
       "</style>\n",
       "<table border=\"1\" class=\"dataframe\">\n",
       "  <thead>\n",
       "    <tr style=\"text-align: right;\">\n",
       "      <th></th>\n",
       "      <th>rank</th>\n",
       "      <th>key</th>\n",
       "      <th>name</th>\n",
       "      <th>hasFundingRounds</th>\n",
       "      <th>symbol</th>\n",
       "      <th>type</th>\n",
       "      <th>lifeCycle</th>\n",
       "      <th>unlimitedSupply</th>\n",
       "      <th>totalSupply</th>\n",
       "      <th>percentOfCircSupply</th>\n",
       "      <th>...</th>\n",
       "      <th>histPrices.3Y.BTC</th>\n",
       "      <th>histPrices.3Y.ETH</th>\n",
       "      <th>histPrices.3Y.percentUSD</th>\n",
       "      <th>icoData.kyc</th>\n",
       "      <th>icoData.accepting</th>\n",
       "      <th>icoData.whitelist</th>\n",
       "      <th>icoData.teamFromCountries</th>\n",
       "      <th>athPrice.dateUSD</th>\n",
       "      <th>icoData.rates</th>\n",
       "      <th>isSponsored</th>\n",
       "    </tr>\n",
       "  </thead>\n",
       "  <tbody>\n",
       "    <tr>\n",
       "      <th>0</th>\n",
       "      <td>NaN</td>\n",
       "      <td>patex</td>\n",
       "      <td>Patex</td>\n",
       "      <td>False</td>\n",
       "      <td>PATEX</td>\n",
       "      <td>token</td>\n",
       "      <td>crowdsale</td>\n",
       "      <td>False</td>\n",
       "      <td>8.000000e+06</td>\n",
       "      <td>4.21</td>\n",
       "      <td>...</td>\n",
       "      <td>NaN</td>\n",
       "      <td>NaN</td>\n",
       "      <td>NaN</td>\n",
       "      <td>NaN</td>\n",
       "      <td>NaN</td>\n",
       "      <td>NaN</td>\n",
       "      <td>NaN</td>\n",
       "      <td>NaN</td>\n",
       "      <td>NaN</td>\n",
       "      <td>NaN</td>\n",
       "    </tr>\n",
       "    <tr>\n",
       "      <th>1</th>\n",
       "      <td>1716.0</td>\n",
       "      <td>cyber-arena</td>\n",
       "      <td>Cyber Arena</td>\n",
       "      <td>False</td>\n",
       "      <td>CAT</td>\n",
       "      <td>token</td>\n",
       "      <td>traded</td>\n",
       "      <td>False</td>\n",
       "      <td>5.000000e+09</td>\n",
       "      <td>14.95</td>\n",
       "      <td>...</td>\n",
       "      <td>NaN</td>\n",
       "      <td>NaN</td>\n",
       "      <td>NaN</td>\n",
       "      <td>NaN</td>\n",
       "      <td>NaN</td>\n",
       "      <td>NaN</td>\n",
       "      <td>NaN</td>\n",
       "      <td>NaN</td>\n",
       "      <td>NaN</td>\n",
       "      <td>NaN</td>\n",
       "    </tr>\n",
       "    <tr>\n",
       "      <th>2</th>\n",
       "      <td>1699.0</td>\n",
       "      <td>virtual-versions</td>\n",
       "      <td>Virtual Versions</td>\n",
       "      <td>False</td>\n",
       "      <td>VV</td>\n",
       "      <td>token</td>\n",
       "      <td>traded</td>\n",
       "      <td>False</td>\n",
       "      <td>1.000000e+09</td>\n",
       "      <td>11.29</td>\n",
       "      <td>...</td>\n",
       "      <td>NaN</td>\n",
       "      <td>NaN</td>\n",
       "      <td>NaN</td>\n",
       "      <td>NaN</td>\n",
       "      <td>NaN</td>\n",
       "      <td>NaN</td>\n",
       "      <td>NaN</td>\n",
       "      <td>NaN</td>\n",
       "      <td>NaN</td>\n",
       "      <td>NaN</td>\n",
       "    </tr>\n",
       "    <tr>\n",
       "      <th>3</th>\n",
       "      <td>1595.0</td>\n",
       "      <td>kryptonite</td>\n",
       "      <td>Kryptonite</td>\n",
       "      <td>False</td>\n",
       "      <td>SEILOR</td>\n",
       "      <td>token</td>\n",
       "      <td>traded</td>\n",
       "      <td>False</td>\n",
       "      <td>1.000000e+09</td>\n",
       "      <td>19.30</td>\n",
       "      <td>...</td>\n",
       "      <td>NaN</td>\n",
       "      <td>NaN</td>\n",
       "      <td>NaN</td>\n",
       "      <td>NaN</td>\n",
       "      <td>NaN</td>\n",
       "      <td>NaN</td>\n",
       "      <td>NaN</td>\n",
       "      <td>NaN</td>\n",
       "      <td>NaN</td>\n",
       "      <td>NaN</td>\n",
       "    </tr>\n",
       "    <tr>\n",
       "      <th>4</th>\n",
       "      <td>1120.0</td>\n",
       "      <td>spartadex</td>\n",
       "      <td>SpartaDEX</td>\n",
       "      <td>False</td>\n",
       "      <td>SPARTA</td>\n",
       "      <td>token</td>\n",
       "      <td>traded</td>\n",
       "      <td>False</td>\n",
       "      <td>1.000000e+08</td>\n",
       "      <td>18.70</td>\n",
       "      <td>...</td>\n",
       "      <td>NaN</td>\n",
       "      <td>NaN</td>\n",
       "      <td>NaN</td>\n",
       "      <td>NaN</td>\n",
       "      <td>NaN</td>\n",
       "      <td>NaN</td>\n",
       "      <td>NaN</td>\n",
       "      <td>NaN</td>\n",
       "      <td>NaN</td>\n",
       "      <td>NaN</td>\n",
       "    </tr>\n",
       "    <tr>\n",
       "      <th>...</th>\n",
       "      <td>...</td>\n",
       "      <td>...</td>\n",
       "      <td>...</td>\n",
       "      <td>...</td>\n",
       "      <td>...</td>\n",
       "      <td>...</td>\n",
       "      <td>...</td>\n",
       "      <td>...</td>\n",
       "      <td>...</td>\n",
       "      <td>...</td>\n",
       "      <td>...</td>\n",
       "      <td>...</td>\n",
       "      <td>...</td>\n",
       "      <td>...</td>\n",
       "      <td>...</td>\n",
       "      <td>...</td>\n",
       "      <td>...</td>\n",
       "      <td>...</td>\n",
       "      <td>...</td>\n",
       "      <td>...</td>\n",
       "      <td>...</td>\n",
       "    </tr>\n",
       "    <tr>\n",
       "      <th>2715</th>\n",
       "      <td>NaN</td>\n",
       "      <td>nft-alley</td>\n",
       "      <td>NFT Alley</td>\n",
       "      <td>True</td>\n",
       "      <td>ALLEY</td>\n",
       "      <td>token</td>\n",
       "      <td>traded</td>\n",
       "      <td>False</td>\n",
       "      <td>1.000000e+07</td>\n",
       "      <td>86.99</td>\n",
       "      <td>...</td>\n",
       "      <td>NaN</td>\n",
       "      <td>NaN</td>\n",
       "      <td>NaN</td>\n",
       "      <td>NaN</td>\n",
       "      <td>NaN</td>\n",
       "      <td>NaN</td>\n",
       "      <td>NaN</td>\n",
       "      <td>NaN</td>\n",
       "      <td>NaN</td>\n",
       "      <td>NaN</td>\n",
       "    </tr>\n",
       "    <tr>\n",
       "      <th>2716</th>\n",
       "      <td>NaN</td>\n",
       "      <td>algopainter</td>\n",
       "      <td>AlgoPainter</td>\n",
       "      <td>False</td>\n",
       "      <td>ALGOP</td>\n",
       "      <td>token</td>\n",
       "      <td>inactive</td>\n",
       "      <td>False</td>\n",
       "      <td>1.000000e+08</td>\n",
       "      <td>10.00</td>\n",
       "      <td>...</td>\n",
       "      <td>NaN</td>\n",
       "      <td>NaN</td>\n",
       "      <td>NaN</td>\n",
       "      <td>NaN</td>\n",
       "      <td>NaN</td>\n",
       "      <td>NaN</td>\n",
       "      <td>NaN</td>\n",
       "      <td>NaN</td>\n",
       "      <td>NaN</td>\n",
       "      <td>NaN</td>\n",
       "    </tr>\n",
       "    <tr>\n",
       "      <th>2717</th>\n",
       "      <td>1365.0</td>\n",
       "      <td>mydefipet</td>\n",
       "      <td>MyDeFiPet</td>\n",
       "      <td>True</td>\n",
       "      <td>DPET</td>\n",
       "      <td>token</td>\n",
       "      <td>traded</td>\n",
       "      <td>False</td>\n",
       "      <td>1.000000e+08</td>\n",
       "      <td>50.23</td>\n",
       "      <td>...</td>\n",
       "      <td>NaN</td>\n",
       "      <td>NaN</td>\n",
       "      <td>NaN</td>\n",
       "      <td>NaN</td>\n",
       "      <td>NaN</td>\n",
       "      <td>NaN</td>\n",
       "      <td>NaN</td>\n",
       "      <td>NaN</td>\n",
       "      <td>NaN</td>\n",
       "      <td>NaN</td>\n",
       "    </tr>\n",
       "    <tr>\n",
       "      <th>2718</th>\n",
       "      <td>1814.0</td>\n",
       "      <td>mist-nft</td>\n",
       "      <td>Mist</td>\n",
       "      <td>False</td>\n",
       "      <td>MIST</td>\n",
       "      <td>token</td>\n",
       "      <td>traded</td>\n",
       "      <td>False</td>\n",
       "      <td>1.000000e+09</td>\n",
       "      <td>5.64</td>\n",
       "      <td>...</td>\n",
       "      <td>NaN</td>\n",
       "      <td>NaN</td>\n",
       "      <td>NaN</td>\n",
       "      <td>NaN</td>\n",
       "      <td>NaN</td>\n",
       "      <td>NaN</td>\n",
       "      <td>NaN</td>\n",
       "      <td>NaN</td>\n",
       "      <td>NaN</td>\n",
       "      <td>NaN</td>\n",
       "    </tr>\n",
       "    <tr>\n",
       "      <th>2719</th>\n",
       "      <td>NaN</td>\n",
       "      <td>orakuru</td>\n",
       "      <td>Orakuru</td>\n",
       "      <td>True</td>\n",
       "      <td>ORK</td>\n",
       "      <td>token</td>\n",
       "      <td>inactive</td>\n",
       "      <td>False</td>\n",
       "      <td>4.447576e+07</td>\n",
       "      <td>52.55</td>\n",
       "      <td>...</td>\n",
       "      <td>NaN</td>\n",
       "      <td>NaN</td>\n",
       "      <td>NaN</td>\n",
       "      <td>NaN</td>\n",
       "      <td>NaN</td>\n",
       "      <td>NaN</td>\n",
       "      <td>NaN</td>\n",
       "      <td>NaN</td>\n",
       "      <td>NaN</td>\n",
       "      <td>NaN</td>\n",
       "    </tr>\n",
       "  </tbody>\n",
       "</table>\n",
       "<p>2720 rows × 247 columns</p>\n",
       "</div>"
      ],
      "text/plain": [
       "        rank               key              name  hasFundingRounds  symbol  \\\n",
       "0        NaN             patex             Patex             False   PATEX   \n",
       "1     1716.0       cyber-arena       Cyber Arena             False     CAT   \n",
       "2     1699.0  virtual-versions  Virtual Versions             False      VV   \n",
       "3     1595.0        kryptonite        Kryptonite             False  SEILOR   \n",
       "4     1120.0         spartadex         SpartaDEX             False  SPARTA   \n",
       "...      ...               ...               ...               ...     ...   \n",
       "2715     NaN         nft-alley         NFT Alley              True   ALLEY   \n",
       "2716     NaN       algopainter       AlgoPainter             False   ALGOP   \n",
       "2717  1365.0         mydefipet         MyDeFiPet              True    DPET   \n",
       "2718  1814.0          mist-nft              Mist             False    MIST   \n",
       "2719     NaN           orakuru          Orakuru               True     ORK   \n",
       "\n",
       "       type  lifeCycle  unlimitedSupply   totalSupply  percentOfCircSupply  \\\n",
       "0     token  crowdsale            False  8.000000e+06                 4.21   \n",
       "1     token     traded            False  5.000000e+09                14.95   \n",
       "2     token     traded            False  1.000000e+09                11.29   \n",
       "3     token     traded            False  1.000000e+09                19.30   \n",
       "4     token     traded            False  1.000000e+08                18.70   \n",
       "...     ...        ...              ...           ...                  ...   \n",
       "2715  token     traded            False  1.000000e+07                86.99   \n",
       "2716  token   inactive            False  1.000000e+08                10.00   \n",
       "2717  token     traded            False  1.000000e+08                50.23   \n",
       "2718  token     traded            False  1.000000e+09                 5.64   \n",
       "2719  token   inactive            False  4.447576e+07                52.55   \n",
       "\n",
       "      ... histPrices.3Y.BTC histPrices.3Y.ETH  histPrices.3Y.percentUSD  \\\n",
       "0     ...               NaN               NaN                       NaN   \n",
       "1     ...               NaN               NaN                       NaN   \n",
       "2     ...               NaN               NaN                       NaN   \n",
       "3     ...               NaN               NaN                       NaN   \n",
       "4     ...               NaN               NaN                       NaN   \n",
       "...   ...               ...               ...                       ...   \n",
       "2715  ...               NaN               NaN                       NaN   \n",
       "2716  ...               NaN               NaN                       NaN   \n",
       "2717  ...               NaN               NaN                       NaN   \n",
       "2718  ...               NaN               NaN                       NaN   \n",
       "2719  ...               NaN               NaN                       NaN   \n",
       "\n",
       "     icoData.kyc icoData.accepting  icoData.whitelist  \\\n",
       "0            NaN               NaN                NaN   \n",
       "1            NaN               NaN                NaN   \n",
       "2            NaN               NaN                NaN   \n",
       "3            NaN               NaN                NaN   \n",
       "4            NaN               NaN                NaN   \n",
       "...          ...               ...                ...   \n",
       "2715         NaN               NaN                NaN   \n",
       "2716         NaN               NaN                NaN   \n",
       "2717         NaN               NaN                NaN   \n",
       "2718         NaN               NaN                NaN   \n",
       "2719         NaN               NaN                NaN   \n",
       "\n",
       "      icoData.teamFromCountries  athPrice.dateUSD  icoData.rates isSponsored  \n",
       "0                           NaN               NaN            NaN         NaN  \n",
       "1                           NaN               NaN            NaN         NaN  \n",
       "2                           NaN               NaN            NaN         NaN  \n",
       "3                           NaN               NaN            NaN         NaN  \n",
       "4                           NaN               NaN            NaN         NaN  \n",
       "...                         ...               ...            ...         ...  \n",
       "2715                        NaN               NaN            NaN         NaN  \n",
       "2716                        NaN               NaN            NaN         NaN  \n",
       "2717                        NaN               NaN            NaN         NaN  \n",
       "2718                        NaN               NaN            NaN         NaN  \n",
       "2719                        NaN               NaN            NaN         NaN  \n",
       "\n",
       "[2720 rows x 247 columns]"
      ]
     },
     "execution_count": 300,
     "metadata": {},
     "output_type": "execute_result"
    }
   ],
   "source": [
    "# Функция для извлечения информации о монете из словарей\n",
    "def extract_coin_info(item):\n",
    "    if item is not None and 'props' in item and 'pageProps' in item['props']:\n",
    "        return item['props']['pageProps']\n",
    "    else:\n",
    "        return None\n",
    "\n",
    "# Создание нового датафрейма на основе информации о монете\n",
    "coin_df = pd.json_normalize(scan['items'].apply(extract_coin_info).dropna())\n",
    "coin_df"
   ]
  },
  {
   "cell_type": "markdown",
   "metadata": {},
   "source": [
    "**Определим число уникальных данных, продолжать работу будем с ними**"
   ]
  },
  {
   "cell_type": "code",
   "execution_count": 301,
   "metadata": {},
   "outputs": [
    {
     "name": "stdout",
     "output_type": "stream",
     "text": [
      "['rank', 'key', 'name', 'hasFundingRounds', 'symbol', 'type', 'lifeCycle', 'unlimitedSupply', 'totalSupply', 'percentOfCircSupply', 'tokens', 'category', 'categoryId', 'tagIds', 'fundIds', 'isTraded', 'marketDataNotAvailable', 'vesting', 'hasVesting', 'listingDate', 'icoFullyDilutedMarketCap', 'noData', 'icoStatus', 'initialSupply', 'initialMarketCap', 'existsOnTv', 'priorityTradingViewExchange', 'tabs', 'links', 'crowdsales', 'description', 'shortDescription', 'notification', 'mineable', 'tickersCount', 'exchangesCount', 'newsCount', 'watchlistsCount', 'hasTickers', 'fullName', 'priceUsd', 'image.native', 'image.icon', 'image.x60', 'image.x150', 'athPrice.BTC', 'athPrice.ETH', 'athPrice.USD', 'athPrice.date', 'athPrice.dateBTC', 'athPrice.dateETH', 'athPrice.marketCap', 'icoData.raised.BTC', 'icoData.raised.ETH', 'icoData.raised.USD', 'icoData.hardCap.BTC', 'icoData.hardCap.ETH', 'icoData.hardCap.USD', 'icoData.softCap.BTC', 'icoData.softCap.ETH', 'icoData.softCap.USD', 'icoData.description', 'icoData.isSponsored', 'icoData.screenshots', 'icoData.raisedPublic.USD', 'icoData.raisedPrivate.USD', 'icoData.soldOnPresale.BTC', 'icoData.soldOnPresale.ETH', 'icoData.soldOnPresale.NEO', 'icoData.soldOnPresale.USD', 'icoData.tokensForSale', 'icoData.additionalLinks', 'icoData.tokensForPublicSale', 'icoData.tokensForPrivateSale', 'icoData.disableCalculateCrowdsales', 'icoData.allocationChart', 'maxSupply', 'fullyDilutedMarketCap', 'availableSupply', 'marketCap', 'volume24h', 'historyStartDay', 'historyEndDay', 'volume24hUsd', 'rankHistory.h24', 'rankHistory.d14', 'rankHistory.MTD', 'rankHistory.d7', 'rankHistory.d30', 'athMarketCap.USD', 'athMarketCap.dateUSD', 'vesting.coin_id', 'vesting.total_start_date', 'vesting.tge_start_date', 'vesting.links', 'vesting.is_hidden', 'vesting.createdAt', 'vesting.updatedAt', 'volatility.USD', 'volatility.BTC', 'volatility.ETH', 'price.USD', 'price.BTC', 'price.ETH', 'histPrices.30D.USD', 'histPrices.30D.BTC', 'histPrices.30D.ETH', 'histPrices.30D.percentUSD', 'histPrices.MTD.USD', 'histPrices.MTD.BTC', 'histPrices.MTD.ETH', 'histPrices.MTD.percentUSD', 'histPrices.24H.USD', 'histPrices.24H.BTC', 'histPrices.24H.ETH', 'histPrices.24H.percentUSD', 'histPrices.7D.USD', 'histPrices.7D.BTC', 'histPrices.7D.ETH', 'histPrices.7D.percentUSD', 'histPrices.14D.USD', 'histPrices.14D.BTC', 'histPrices.14D.ETH', 'histPrices.14D.percentUSD', 'atlPrice.BTC', 'atlPrice.ETH', 'atlPrice.USD', 'atlPrice.dateBTC', 'atlPrice.dateETH', 'atlPrice.dateUSD', 'histData.high.1Y.BTC', 'histData.high.1Y.ETH', 'histData.high.1Y.USD', 'histData.high.3M.BTC', 'histData.high.3M.ETH', 'histData.high.3M.USD', 'histData.high.3Y.BTC', 'histData.high.3Y.ETH', 'histData.high.3Y.USD', 'histData.high.6M.BTC', 'histData.high.6M.ETH', 'histData.high.6M.USD', 'histData.high.7D.BTC', 'histData.high.7D.ETH', 'histData.high.7D.USD', 'histData.high.14D.BTC', 'histData.high.14D.ETH', 'histData.high.14D.USD', 'histData.high.24H.BTC', 'histData.high.24H.ETH', 'histData.high.24H.USD', 'histData.high.30D.BTC', 'histData.high.30D.ETH', 'histData.high.30D.USD', 'histData.high.YTD.BTC', 'histData.high.YTD.ETH', 'histData.high.YTD.USD', 'histData.low.1Y.BTC', 'histData.low.1Y.ETH', 'histData.low.1Y.USD', 'histData.low.3M.BTC', 'histData.low.3M.ETH', 'histData.low.3M.USD', 'histData.low.3Y.BTC', 'histData.low.3Y.ETH', 'histData.low.3Y.USD', 'histData.low.6M.BTC', 'histData.low.6M.ETH', 'histData.low.6M.USD', 'histData.low.7D.BTC', 'histData.low.7D.ETH', 'histData.low.7D.USD', 'histData.low.14D.BTC', 'histData.low.14D.ETH', 'histData.low.14D.USD', 'histData.low.24H.BTC', 'histData.low.24H.ETH', 'histData.low.24H.USD', 'histData.low.30D.BTC', 'histData.low.30D.ETH', 'histData.low.30D.USD', 'histData.low.YTD.BTC', 'histData.low.YTD.ETH', 'histData.low.YTD.USD', 'rankHistory.q3', 'rankHistory.m3', 'histPrices.3M.USD', 'histPrices.3M.BTC', 'histPrices.3M.ETH', 'histPrices.3M.percentUSD', 'chartTicker.id', 'rankHistory.q2', 'rankHistory.m6', 'histPrices.6M.USD', 'histPrices.6M.BTC', 'histPrices.6M.ETH', 'histPrices.6M.percentUSD', 'jurisdiction', 'rankHistory.q1', 'rankHistory.YTD', 'histPrices.YTD.USD', 'histPrices.YTD.BTC', 'histPrices.YTD.ETH', 'histPrices.YTD.percentUSD', 'rankHistory.y1', 'icoData.tokenRole', 'histPrices.1Y.USD', 'histPrices.1Y.BTC', 'histPrices.1Y.ETH', 'histPrices.1Y.percentUSD', 'interest', 'icoData.rates.cryptorankInterest', 'icoData.interestRate', 'icoData.rates.cryptorankHype', 'icoData.rates.cryptorankRisk', 'icoData.rates.mandy', 'icoData.rates.hacked', 'icoData.rates.gagarin', 'icoData.rates.icoDrops', 'icoData.rates.shinChan', 'icoData.rates.ianBalina', 'icoData.rates.theGobOne', 'icoData.rates.ohHeyMatty', 'icoData.rates.wolfCrypto', 'icoData.rates.diddyCarter', 'icoData.rates.mmCryptoRate', 'icoData.rates.mmCryptoGrade', 'icoData.rates.cryptoBriefing', 'icoData.rates.cryptoSherlock', 'icoData.rates.midgardResearch', 'icoData.rates.crushCryptoLongTerm', 'icoData.rates.crushCryptoShortTerm', 'icoData.tokenIssue', 'icoData.cantParticipateCountries', 'tokenPlatformName', 'tokenPlatformKey', 'histPrices.3Y.USD', 'histPrices.3Y.BTC', 'histPrices.3Y.ETH', 'histPrices.3Y.percentUSD', 'icoData.kyc', 'icoData.accepting', 'icoData.whitelist', 'icoData.teamFromCountries', 'athPrice.dateUSD', 'icoData.rates', 'isSponsored']\n"
     ]
    }
   ],
   "source": [
    "print(coin_df.columns.to_list())"
   ]
  },
  {
   "cell_type": "code",
   "execution_count": 302,
   "metadata": {},
   "outputs": [
    {
     "name": "stdout",
     "output_type": "stream",
     "text": [
      "Number of unique values in the 'key' column: 1424\n"
     ]
    }
   ],
   "source": [
    "unique_keys_count = coin_df['key'].nunique()\n",
    "print(\"Number of unique values in the 'key' column:\", unique_keys_count)"
   ]
  },
  {
   "cell_type": "code",
   "execution_count": 303,
   "metadata": {},
   "outputs": [
    {
     "data": {
      "text/html": [
       "<div>\n",
       "<style scoped>\n",
       "    .dataframe tbody tr th:only-of-type {\n",
       "        vertical-align: middle;\n",
       "    }\n",
       "\n",
       "    .dataframe tbody tr th {\n",
       "        vertical-align: top;\n",
       "    }\n",
       "\n",
       "    .dataframe thead th {\n",
       "        text-align: right;\n",
       "    }\n",
       "</style>\n",
       "<table border=\"1\" class=\"dataframe\">\n",
       "  <thead>\n",
       "    <tr style=\"text-align: right;\">\n",
       "      <th></th>\n",
       "      <th>name</th>\n",
       "      <th>hasFundingRounds</th>\n",
       "      <th>links</th>\n",
       "      <th>volume24hUsd</th>\n",
       "      <th>totalSupply</th>\n",
       "      <th>percentOfCircSupply</th>\n",
       "      <th>historyStartDay</th>\n",
       "      <th>lifeCycle</th>\n",
       "    </tr>\n",
       "  </thead>\n",
       "  <tbody>\n",
       "    <tr>\n",
       "      <th>0</th>\n",
       "      <td>Patex</td>\n",
       "      <td>False</td>\n",
       "      <td>[{'type': 'web', 'value': 'https://patex.io/'}...</td>\n",
       "      <td>NaN</td>\n",
       "      <td>8.000000e+06</td>\n",
       "      <td>4.21</td>\n",
       "      <td>NaN</td>\n",
       "      <td>crowdsale</td>\n",
       "    </tr>\n",
       "    <tr>\n",
       "      <th>1</th>\n",
       "      <td>Cyber Arena</td>\n",
       "      <td>False</td>\n",
       "      <td>[{'type': 'web', 'value': 'https://www.cyber-a...</td>\n",
       "      <td>29920.120165</td>\n",
       "      <td>5.000000e+09</td>\n",
       "      <td>14.95</td>\n",
       "      <td>2023-10-05</td>\n",
       "      <td>traded</td>\n",
       "    </tr>\n",
       "    <tr>\n",
       "      <th>2</th>\n",
       "      <td>Virtual Versions</td>\n",
       "      <td>False</td>\n",
       "      <td>[{'type': 'web', 'value': 'https://virtualvers...</td>\n",
       "      <td>663475.492992</td>\n",
       "      <td>1.000000e+09</td>\n",
       "      <td>11.29</td>\n",
       "      <td>2023-09-12</td>\n",
       "      <td>traded</td>\n",
       "    </tr>\n",
       "    <tr>\n",
       "      <th>3</th>\n",
       "      <td>Kryptonite</td>\n",
       "      <td>False</td>\n",
       "      <td>[{'type': 'discord', 'value': 'https://discord...</td>\n",
       "      <td>36897.969515</td>\n",
       "      <td>1.000000e+09</td>\n",
       "      <td>19.30</td>\n",
       "      <td>2023-08-14</td>\n",
       "      <td>traded</td>\n",
       "    </tr>\n",
       "    <tr>\n",
       "      <th>4</th>\n",
       "      <td>SpartaDEX</td>\n",
       "      <td>False</td>\n",
       "      <td>[{'type': 'web', 'value': 'https://spartadex.i...</td>\n",
       "      <td>34726.685377</td>\n",
       "      <td>1.000000e+08</td>\n",
       "      <td>18.70</td>\n",
       "      <td>2023-08-08</td>\n",
       "      <td>traded</td>\n",
       "    </tr>\n",
       "    <tr>\n",
       "      <th>...</th>\n",
       "      <td>...</td>\n",
       "      <td>...</td>\n",
       "      <td>...</td>\n",
       "      <td>...</td>\n",
       "      <td>...</td>\n",
       "      <td>...</td>\n",
       "      <td>...</td>\n",
       "      <td>...</td>\n",
       "    </tr>\n",
       "    <tr>\n",
       "      <th>2715</th>\n",
       "      <td>NFT Alley</td>\n",
       "      <td>True</td>\n",
       "      <td>[{'type': 'web', 'value': 'https://nftalley.io...</td>\n",
       "      <td>11.203164</td>\n",
       "      <td>1.000000e+07</td>\n",
       "      <td>86.99</td>\n",
       "      <td>2021-05-20</td>\n",
       "      <td>traded</td>\n",
       "    </tr>\n",
       "    <tr>\n",
       "      <th>2716</th>\n",
       "      <td>AlgoPainter</td>\n",
       "      <td>False</td>\n",
       "      <td>[{'type': 'web', 'value': 'https://www.algopai...</td>\n",
       "      <td>NaN</td>\n",
       "      <td>1.000000e+08</td>\n",
       "      <td>10.00</td>\n",
       "      <td>2021-05-20</td>\n",
       "      <td>inactive</td>\n",
       "    </tr>\n",
       "    <tr>\n",
       "      <th>2717</th>\n",
       "      <td>MyDeFiPet</td>\n",
       "      <td>True</td>\n",
       "      <td>[{'type': 'whitepaper', 'value': 'https://www....</td>\n",
       "      <td>68614.753369</td>\n",
       "      <td>1.000000e+08</td>\n",
       "      <td>50.23</td>\n",
       "      <td>2021-05-14</td>\n",
       "      <td>traded</td>\n",
       "    </tr>\n",
       "    <tr>\n",
       "      <th>2718</th>\n",
       "      <td>Mist</td>\n",
       "      <td>False</td>\n",
       "      <td>[{'type': 'web', 'value': 'https://mist.game/'...</td>\n",
       "      <td>71808.588700</td>\n",
       "      <td>1.000000e+09</td>\n",
       "      <td>5.64</td>\n",
       "      <td>2021-04-17</td>\n",
       "      <td>traded</td>\n",
       "    </tr>\n",
       "    <tr>\n",
       "      <th>2719</th>\n",
       "      <td>Orakuru</td>\n",
       "      <td>True</td>\n",
       "      <td>[{'type': 'web', 'value': 'https://orakuru.io/...</td>\n",
       "      <td>NaN</td>\n",
       "      <td>4.447576e+07</td>\n",
       "      <td>52.55</td>\n",
       "      <td>2021-04-08</td>\n",
       "      <td>inactive</td>\n",
       "    </tr>\n",
       "  </tbody>\n",
       "</table>\n",
       "<p>2720 rows × 8 columns</p>\n",
       "</div>"
      ],
      "text/plain": [
       "                  name  hasFundingRounds  \\\n",
       "0                Patex             False   \n",
       "1          Cyber Arena             False   \n",
       "2     Virtual Versions             False   \n",
       "3           Kryptonite             False   \n",
       "4            SpartaDEX             False   \n",
       "...                ...               ...   \n",
       "2715         NFT Alley              True   \n",
       "2716       AlgoPainter             False   \n",
       "2717         MyDeFiPet              True   \n",
       "2718              Mist             False   \n",
       "2719          Orakuru               True   \n",
       "\n",
       "                                                  links   volume24hUsd  \\\n",
       "0     [{'type': 'web', 'value': 'https://patex.io/'}...            NaN   \n",
       "1     [{'type': 'web', 'value': 'https://www.cyber-a...   29920.120165   \n",
       "2     [{'type': 'web', 'value': 'https://virtualvers...  663475.492992   \n",
       "3     [{'type': 'discord', 'value': 'https://discord...   36897.969515   \n",
       "4     [{'type': 'web', 'value': 'https://spartadex.i...   34726.685377   \n",
       "...                                                 ...            ...   \n",
       "2715  [{'type': 'web', 'value': 'https://nftalley.io...      11.203164   \n",
       "2716  [{'type': 'web', 'value': 'https://www.algopai...            NaN   \n",
       "2717  [{'type': 'whitepaper', 'value': 'https://www....   68614.753369   \n",
       "2718  [{'type': 'web', 'value': 'https://mist.game/'...   71808.588700   \n",
       "2719  [{'type': 'web', 'value': 'https://orakuru.io/...            NaN   \n",
       "\n",
       "       totalSupply  percentOfCircSupply historyStartDay  lifeCycle  \n",
       "0     8.000000e+06                 4.21             NaN  crowdsale  \n",
       "1     5.000000e+09                14.95      2023-10-05     traded  \n",
       "2     1.000000e+09                11.29      2023-09-12     traded  \n",
       "3     1.000000e+09                19.30      2023-08-14     traded  \n",
       "4     1.000000e+08                18.70      2023-08-08     traded  \n",
       "...            ...                  ...             ...        ...  \n",
       "2715  1.000000e+07                86.99      2021-05-20     traded  \n",
       "2716  1.000000e+08                10.00      2021-05-20   inactive  \n",
       "2717  1.000000e+08                50.23      2021-05-14     traded  \n",
       "2718  1.000000e+09                 5.64      2021-04-17     traded  \n",
       "2719  4.447576e+07                52.55      2021-04-08   inactive  \n",
       "\n",
       "[2720 rows x 8 columns]"
      ]
     },
     "execution_count": 303,
     "metadata": {},
     "output_type": "execute_result"
    }
   ],
   "source": [
    "threshold = 0.1 * len(coin_df)\n",
    "df_cleaned = coin_df.dropna(axis=1, thresh=threshold)\n",
    "yes_columns = ['name', 'hasFundingRounds', 'links', 'volume24hUsd', 'totalSupply', 'percentOfCircSupply', 'historyStartDay', 'lifeCycle']\n",
    "df_cleaned = df_cleaned[yes_columns]\n",
    "df_cleaned"
   ]
  },
  {
   "cell_type": "markdown",
   "metadata": {},
   "source": [
    "Снизу все данные которые мы можем использовать"
   ]
  },
  {
   "cell_type": "code",
   "execution_count": 304,
   "metadata": {},
   "outputs": [
    {
     "name": "stdout",
     "output_type": "stream",
     "text": [
      "['rank', 'key', 'name', 'hasFundingRounds', 'symbol', 'type', 'lifeCycle', 'unlimitedSupply', 'totalSupply', 'percentOfCircSupply', 'tokens', 'category', 'categoryId', 'tagIds', 'fundIds', 'isTraded', 'marketDataNotAvailable', 'vesting', 'hasVesting', 'listingDate', 'icoFullyDilutedMarketCap', 'noData', 'icoStatus', 'initialSupply', 'initialMarketCap', 'existsOnTv', 'priorityTradingViewExchange', 'tabs', 'links', 'crowdsales', 'description', 'shortDescription', 'notification', 'mineable', 'tickersCount', 'exchangesCount', 'newsCount', 'watchlistsCount', 'hasTickers', 'fullName', 'priceUsd', 'image.native', 'image.icon', 'image.x60', 'image.x150', 'athPrice.BTC', 'athPrice.ETH', 'athPrice.USD', 'athPrice.date', 'athPrice.dateBTC', 'athPrice.dateETH', 'athPrice.marketCap', 'icoData.raised.BTC', 'icoData.raised.ETH', 'icoData.raised.USD', 'icoData.hardCap.BTC', 'icoData.hardCap.ETH', 'icoData.hardCap.USD', 'icoData.softCap.BTC', 'icoData.softCap.ETH', 'icoData.softCap.USD', 'icoData.description', 'icoData.isSponsored', 'icoData.screenshots', 'icoData.raisedPublic.USD', 'icoData.raisedPrivate.USD', 'icoData.soldOnPresale.BTC', 'icoData.soldOnPresale.ETH', 'icoData.soldOnPresale.NEO', 'icoData.soldOnPresale.USD', 'icoData.tokensForSale', 'icoData.additionalLinks', 'icoData.tokensForPublicSale', 'icoData.tokensForPrivateSale', 'icoData.disableCalculateCrowdsales', 'icoData.allocationChart', 'maxSupply', 'fullyDilutedMarketCap', 'availableSupply', 'marketCap', 'volume24h', 'historyStartDay', 'historyEndDay', 'volume24hUsd', 'rankHistory.h24', 'rankHistory.d14', 'rankHistory.MTD', 'rankHistory.d7', 'rankHistory.d30', 'athMarketCap.USD', 'athMarketCap.dateUSD', 'vesting.coin_id', 'vesting.total_start_date', 'vesting.tge_start_date', 'vesting.links', 'vesting.is_hidden', 'vesting.createdAt', 'vesting.updatedAt', 'volatility.USD', 'volatility.BTC', 'volatility.ETH', 'price.USD', 'price.BTC', 'price.ETH', 'histPrices.30D.USD', 'histPrices.30D.BTC', 'histPrices.30D.ETH', 'histPrices.30D.percentUSD', 'histPrices.MTD.USD', 'histPrices.MTD.BTC', 'histPrices.MTD.ETH', 'histPrices.MTD.percentUSD', 'histPrices.24H.USD', 'histPrices.24H.BTC', 'histPrices.24H.ETH', 'histPrices.24H.percentUSD', 'histPrices.7D.USD', 'histPrices.7D.BTC', 'histPrices.7D.ETH', 'histPrices.7D.percentUSD', 'histPrices.14D.USD', 'histPrices.14D.BTC', 'histPrices.14D.ETH', 'histPrices.14D.percentUSD', 'atlPrice.BTC', 'atlPrice.ETH', 'atlPrice.USD', 'atlPrice.dateBTC', 'atlPrice.dateETH', 'atlPrice.dateUSD', 'histData.high.1Y.BTC', 'histData.high.1Y.ETH', 'histData.high.1Y.USD', 'histData.high.3M.BTC', 'histData.high.3M.ETH', 'histData.high.3M.USD', 'histData.high.3Y.BTC', 'histData.high.3Y.ETH', 'histData.high.3Y.USD', 'histData.high.6M.BTC', 'histData.high.6M.ETH', 'histData.high.6M.USD', 'histData.high.7D.BTC', 'histData.high.7D.ETH', 'histData.high.7D.USD', 'histData.high.14D.BTC', 'histData.high.14D.ETH', 'histData.high.14D.USD', 'histData.high.24H.BTC', 'histData.high.24H.ETH', 'histData.high.24H.USD', 'histData.high.30D.BTC', 'histData.high.30D.ETH', 'histData.high.30D.USD', 'histData.high.YTD.BTC', 'histData.high.YTD.ETH', 'histData.high.YTD.USD', 'histData.low.1Y.BTC', 'histData.low.1Y.ETH', 'histData.low.1Y.USD', 'histData.low.3M.BTC', 'histData.low.3M.ETH', 'histData.low.3M.USD', 'histData.low.3Y.BTC', 'histData.low.3Y.ETH', 'histData.low.3Y.USD', 'histData.low.6M.BTC', 'histData.low.6M.ETH', 'histData.low.6M.USD', 'histData.low.7D.BTC', 'histData.low.7D.ETH', 'histData.low.7D.USD', 'histData.low.14D.BTC', 'histData.low.14D.ETH', 'histData.low.14D.USD', 'histData.low.24H.BTC', 'histData.low.24H.ETH', 'histData.low.24H.USD', 'histData.low.30D.BTC', 'histData.low.30D.ETH', 'histData.low.30D.USD', 'histData.low.YTD.BTC', 'histData.low.YTD.ETH', 'histData.low.YTD.USD', 'rankHistory.q3', 'rankHistory.m3', 'histPrices.3M.USD', 'histPrices.3M.BTC', 'histPrices.3M.ETH', 'histPrices.3M.percentUSD', 'chartTicker.id', 'rankHistory.q2', 'rankHistory.m6', 'histPrices.6M.USD', 'histPrices.6M.BTC', 'histPrices.6M.ETH', 'histPrices.6M.percentUSD', 'jurisdiction', 'rankHistory.q1', 'rankHistory.YTD', 'histPrices.YTD.USD', 'histPrices.YTD.BTC', 'histPrices.YTD.ETH', 'histPrices.YTD.percentUSD', 'rankHistory.y1', 'icoData.tokenRole', 'histPrices.1Y.USD', 'histPrices.1Y.BTC', 'histPrices.1Y.ETH', 'histPrices.1Y.percentUSD', 'interest', 'icoData.rates.cryptorankInterest', 'icoData.interestRate', 'icoData.rates.cryptorankHype', 'icoData.rates.cryptorankRisk', 'icoData.rates.mandy', 'icoData.rates.hacked', 'icoData.rates.gagarin', 'icoData.rates.icoDrops', 'icoData.rates.shinChan', 'icoData.rates.ianBalina', 'icoData.rates.theGobOne', 'icoData.rates.ohHeyMatty', 'icoData.rates.wolfCrypto', 'icoData.rates.diddyCarter', 'icoData.rates.mmCryptoRate', 'icoData.rates.mmCryptoGrade', 'icoData.rates.cryptoBriefing', 'icoData.rates.cryptoSherlock', 'icoData.rates.midgardResearch', 'icoData.rates.crushCryptoLongTerm', 'icoData.rates.crushCryptoShortTerm', 'icoData.tokenIssue', 'icoData.cantParticipateCountries', 'tokenPlatformName', 'tokenPlatformKey', 'histPrices.3Y.USD', 'histPrices.3Y.BTC', 'histPrices.3Y.ETH', 'histPrices.3Y.percentUSD', 'icoData.kyc', 'icoData.accepting', 'icoData.whitelist', 'icoData.teamFromCountries', 'athPrice.dateUSD', 'icoData.rates', 'isSponsored']\n"
     ]
    }
   ],
   "source": [
    "print(list(coin_df.columns))"
   ]
  },
  {
   "cell_type": "markdown",
   "metadata": {},
   "source": [
    "Добавим ещё столбец - код криптовалюты, для этого получим данные из json, создадим dataFrame и смерджим его с нашим по именам"
   ]
  },
  {
   "cell_type": "code",
   "execution_count": 305,
   "metadata": {},
   "outputs": [],
   "source": [
    "n_data = list()\n",
    "n_data = []\n",
    "for key in data:\n",
    "    if data[key] == []:\n",
    "        continue\n",
    "    n_data.append({'name' : key, 'code' : data[key]['result'][0]})"
   ]
  },
  {
   "cell_type": "code",
   "execution_count": 306,
   "metadata": {},
   "outputs": [],
   "source": [
    "codes = pd.DataFrame(n_data)"
   ]
  },
  {
   "cell_type": "code",
   "execution_count": 307,
   "metadata": {},
   "outputs": [
    {
     "data": {
      "text/html": [
       "<div>\n",
       "<style scoped>\n",
       "    .dataframe tbody tr th:only-of-type {\n",
       "        vertical-align: middle;\n",
       "    }\n",
       "\n",
       "    .dataframe tbody tr th {\n",
       "        vertical-align: top;\n",
       "    }\n",
       "\n",
       "    .dataframe thead th {\n",
       "        text-align: right;\n",
       "    }\n",
       "</style>\n",
       "<table border=\"1\" class=\"dataframe\">\n",
       "  <thead>\n",
       "    <tr style=\"text-align: right;\">\n",
       "      <th></th>\n",
       "      <th>name</th>\n",
       "      <th>code</th>\n",
       "    </tr>\n",
       "  </thead>\n",
       "  <tbody>\n",
       "    <tr>\n",
       "      <th>0</th>\n",
       "      <td>Patex</td>\n",
       "      <td>{'SourceCode': '// OpenZeppelin Contracts v4.4...</td>\n",
       "    </tr>\n",
       "    <tr>\n",
       "      <th>1</th>\n",
       "      <td>Cyber Arena</td>\n",
       "      <td>{'SourceCode': '// File: @openzeppelin/contrac...</td>\n",
       "    </tr>\n",
       "    <tr>\n",
       "      <th>2</th>\n",
       "      <td>Virtual Versions</td>\n",
       "      <td>{'SourceCode': '{{\r\n",
       "  \"language\": \"Solidity\",\r",
       "...</td>\n",
       "    </tr>\n",
       "    <tr>\n",
       "      <th>3</th>\n",
       "      <td>Kryptonite</td>\n",
       "      <td>{'SourceCode': '{{\r\n",
       "  \"language\": \"Solidity\",\r",
       "...</td>\n",
       "    </tr>\n",
       "    <tr>\n",
       "      <th>4</th>\n",
       "      <td>SpartaDEX</td>\n",
       "      <td>{'SourceCode': '{{\r\n",
       "  \"language\": \"Solidity\",\r",
       "...</td>\n",
       "    </tr>\n",
       "    <tr>\n",
       "      <th>...</th>\n",
       "      <td>...</td>\n",
       "      <td>...</td>\n",
       "    </tr>\n",
       "    <tr>\n",
       "      <th>1166</th>\n",
       "      <td>Polylastic</td>\n",
       "      <td>{'SourceCode': '{{\r\n",
       "  \"language\": \"Solidity\",\r",
       "...</td>\n",
       "    </tr>\n",
       "    <tr>\n",
       "      <th>1167</th>\n",
       "      <td>NFT Alley</td>\n",
       "      <td>{'SourceCode': '// File: openzeppelin-solidity...</td>\n",
       "    </tr>\n",
       "    <tr>\n",
       "      <th>1168</th>\n",
       "      <td>AlgoPainter</td>\n",
       "      <td>{'SourceCode': '// File: @openzeppelin/contrac...</td>\n",
       "    </tr>\n",
       "    <tr>\n",
       "      <th>1169</th>\n",
       "      <td>Mist</td>\n",
       "      <td>{'SourceCode': '{{\r\n",
       "  \"language\": \"Solidity\",\r",
       "...</td>\n",
       "    </tr>\n",
       "    <tr>\n",
       "      <th>1170</th>\n",
       "      <td>Orakuru</td>\n",
       "      <td>{'SourceCode': '{{\r\n",
       "  \"language\": \"Solidity\",\r",
       "...</td>\n",
       "    </tr>\n",
       "  </tbody>\n",
       "</table>\n",
       "<p>1171 rows × 2 columns</p>\n",
       "</div>"
      ],
      "text/plain": [
       "                  name                                               code\n",
       "0                Patex  {'SourceCode': '// OpenZeppelin Contracts v4.4...\n",
       "1          Cyber Arena  {'SourceCode': '// File: @openzeppelin/contrac...\n",
       "2     Virtual Versions  {'SourceCode': '{{\n",
       "  \"language\": \"Solidity\",\n",
       "...\n",
       "3           Kryptonite  {'SourceCode': '{{\n",
       "  \"language\": \"Solidity\",\n",
       "...\n",
       "4            SpartaDEX  {'SourceCode': '{{\n",
       "  \"language\": \"Solidity\",\n",
       "...\n",
       "...                ...                                                ...\n",
       "1166       Polylastic   {'SourceCode': '{{\n",
       "  \"language\": \"Solidity\",\n",
       "...\n",
       "1167         NFT Alley  {'SourceCode': '// File: openzeppelin-solidity...\n",
       "1168       AlgoPainter  {'SourceCode': '// File: @openzeppelin/contrac...\n",
       "1169              Mist  {'SourceCode': '{{\n",
       "  \"language\": \"Solidity\",\n",
       "...\n",
       "1170          Orakuru   {'SourceCode': '{{\n",
       "  \"language\": \"Solidity\",\n",
       "...\n",
       "\n",
       "[1171 rows x 2 columns]"
      ]
     },
     "execution_count": 307,
     "metadata": {},
     "output_type": "execute_result"
    }
   ],
   "source": [
    "codes"
   ]
  },
  {
   "cell_type": "code",
   "execution_count": 308,
   "metadata": {},
   "outputs": [
    {
     "data": {
      "text/html": [
       "<div>\n",
       "<style scoped>\n",
       "    .dataframe tbody tr th:only-of-type {\n",
       "        vertical-align: middle;\n",
       "    }\n",
       "\n",
       "    .dataframe tbody tr th {\n",
       "        vertical-align: top;\n",
       "    }\n",
       "\n",
       "    .dataframe thead th {\n",
       "        text-align: right;\n",
       "    }\n",
       "</style>\n",
       "<table border=\"1\" class=\"dataframe\">\n",
       "  <thead>\n",
       "    <tr style=\"text-align: right;\">\n",
       "      <th></th>\n",
       "      <th>name</th>\n",
       "      <th>code</th>\n",
       "      <th>hasFundingRounds</th>\n",
       "      <th>links</th>\n",
       "      <th>volume24hUsd</th>\n",
       "      <th>totalSupply</th>\n",
       "      <th>percentOfCircSupply</th>\n",
       "      <th>historyStartDay</th>\n",
       "      <th>lifeCycle</th>\n",
       "    </tr>\n",
       "  </thead>\n",
       "  <tbody>\n",
       "    <tr>\n",
       "      <th>0</th>\n",
       "      <td>Patex</td>\n",
       "      <td>{'SourceCode': '// OpenZeppelin Contracts v4.4...</td>\n",
       "      <td>False</td>\n",
       "      <td>[{'type': 'web', 'value': 'https://patex.io/'}...</td>\n",
       "      <td>NaN</td>\n",
       "      <td>8.000000e+06</td>\n",
       "      <td>4.21</td>\n",
       "      <td>NaN</td>\n",
       "      <td>crowdsale</td>\n",
       "    </tr>\n",
       "    <tr>\n",
       "      <th>1</th>\n",
       "      <td>Cyber Arena</td>\n",
       "      <td>{'SourceCode': '// File: @openzeppelin/contrac...</td>\n",
       "      <td>False</td>\n",
       "      <td>[{'type': 'web', 'value': 'https://www.cyber-a...</td>\n",
       "      <td>29920.120165</td>\n",
       "      <td>5.000000e+09</td>\n",
       "      <td>14.95</td>\n",
       "      <td>2023-10-05</td>\n",
       "      <td>traded</td>\n",
       "    </tr>\n",
       "    <tr>\n",
       "      <th>2</th>\n",
       "      <td>Virtual Versions</td>\n",
       "      <td>{'SourceCode': '{{\r\n",
       "  \"language\": \"Solidity\",\r",
       "...</td>\n",
       "      <td>False</td>\n",
       "      <td>[{'type': 'web', 'value': 'https://virtualvers...</td>\n",
       "      <td>663475.492992</td>\n",
       "      <td>1.000000e+09</td>\n",
       "      <td>11.29</td>\n",
       "      <td>2023-09-12</td>\n",
       "      <td>traded</td>\n",
       "    </tr>\n",
       "    <tr>\n",
       "      <th>3</th>\n",
       "      <td>Kryptonite</td>\n",
       "      <td>{'SourceCode': '{{\r\n",
       "  \"language\": \"Solidity\",\r",
       "...</td>\n",
       "      <td>False</td>\n",
       "      <td>[{'type': 'discord', 'value': 'https://discord...</td>\n",
       "      <td>36897.969515</td>\n",
       "      <td>1.000000e+09</td>\n",
       "      <td>19.30</td>\n",
       "      <td>2023-08-14</td>\n",
       "      <td>traded</td>\n",
       "    </tr>\n",
       "    <tr>\n",
       "      <th>4</th>\n",
       "      <td>SpartaDEX</td>\n",
       "      <td>{'SourceCode': '{{\r\n",
       "  \"language\": \"Solidity\",\r",
       "...</td>\n",
       "      <td>False</td>\n",
       "      <td>[{'type': 'web', 'value': 'https://spartadex.i...</td>\n",
       "      <td>34726.685377</td>\n",
       "      <td>1.000000e+08</td>\n",
       "      <td>18.70</td>\n",
       "      <td>2023-08-08</td>\n",
       "      <td>traded</td>\n",
       "    </tr>\n",
       "    <tr>\n",
       "      <th>...</th>\n",
       "      <td>...</td>\n",
       "      <td>...</td>\n",
       "      <td>...</td>\n",
       "      <td>...</td>\n",
       "      <td>...</td>\n",
       "      <td>...</td>\n",
       "      <td>...</td>\n",
       "      <td>...</td>\n",
       "      <td>...</td>\n",
       "    </tr>\n",
       "    <tr>\n",
       "      <th>1166</th>\n",
       "      <td>Polylastic</td>\n",
       "      <td>{'SourceCode': '{{\r\n",
       "  \"language\": \"Solidity\",\r",
       "...</td>\n",
       "      <td>True</td>\n",
       "      <td>[{'type': 'web', 'value': 'https://polylastic....</td>\n",
       "      <td>293938.399090</td>\n",
       "      <td>9.825410e+10</td>\n",
       "      <td>72.91</td>\n",
       "      <td>2021-05-10</td>\n",
       "      <td>traded</td>\n",
       "    </tr>\n",
       "    <tr>\n",
       "      <th>1167</th>\n",
       "      <td>NFT Alley</td>\n",
       "      <td>{'SourceCode': '// File: openzeppelin-solidity...</td>\n",
       "      <td>True</td>\n",
       "      <td>[{'type': 'web', 'value': 'https://nftalley.io...</td>\n",
       "      <td>11.203164</td>\n",
       "      <td>1.000000e+07</td>\n",
       "      <td>86.99</td>\n",
       "      <td>2021-05-20</td>\n",
       "      <td>traded</td>\n",
       "    </tr>\n",
       "    <tr>\n",
       "      <th>1168</th>\n",
       "      <td>AlgoPainter</td>\n",
       "      <td>{'SourceCode': '// File: @openzeppelin/contrac...</td>\n",
       "      <td>False</td>\n",
       "      <td>[{'type': 'web', 'value': 'https://www.algopai...</td>\n",
       "      <td>NaN</td>\n",
       "      <td>1.000000e+08</td>\n",
       "      <td>10.00</td>\n",
       "      <td>2021-05-20</td>\n",
       "      <td>inactive</td>\n",
       "    </tr>\n",
       "    <tr>\n",
       "      <th>1169</th>\n",
       "      <td>Mist</td>\n",
       "      <td>{'SourceCode': '{{\r\n",
       "  \"language\": \"Solidity\",\r",
       "...</td>\n",
       "      <td>False</td>\n",
       "      <td>[{'type': 'web', 'value': 'https://mist.game/'...</td>\n",
       "      <td>71808.588700</td>\n",
       "      <td>1.000000e+09</td>\n",
       "      <td>5.64</td>\n",
       "      <td>2021-04-17</td>\n",
       "      <td>traded</td>\n",
       "    </tr>\n",
       "    <tr>\n",
       "      <th>1170</th>\n",
       "      <td>Orakuru</td>\n",
       "      <td>{'SourceCode': '{{\r\n",
       "  \"language\": \"Solidity\",\r",
       "...</td>\n",
       "      <td>True</td>\n",
       "      <td>[{'type': 'web', 'value': 'https://orakuru.io/...</td>\n",
       "      <td>NaN</td>\n",
       "      <td>4.447576e+07</td>\n",
       "      <td>52.55</td>\n",
       "      <td>2021-04-08</td>\n",
       "      <td>inactive</td>\n",
       "    </tr>\n",
       "  </tbody>\n",
       "</table>\n",
       "<p>1171 rows × 9 columns</p>\n",
       "</div>"
      ],
      "text/plain": [
       "                  name                                               code  \\\n",
       "0                Patex  {'SourceCode': '// OpenZeppelin Contracts v4.4...   \n",
       "1          Cyber Arena  {'SourceCode': '// File: @openzeppelin/contrac...   \n",
       "2     Virtual Versions  {'SourceCode': '{{\n",
       "  \"language\": \"Solidity\",\n",
       "...   \n",
       "3           Kryptonite  {'SourceCode': '{{\n",
       "  \"language\": \"Solidity\",\n",
       "...   \n",
       "4            SpartaDEX  {'SourceCode': '{{\n",
       "  \"language\": \"Solidity\",\n",
       "...   \n",
       "...                ...                                                ...   \n",
       "1166       Polylastic   {'SourceCode': '{{\n",
       "  \"language\": \"Solidity\",\n",
       "...   \n",
       "1167         NFT Alley  {'SourceCode': '// File: openzeppelin-solidity...   \n",
       "1168       AlgoPainter  {'SourceCode': '// File: @openzeppelin/contrac...   \n",
       "1169              Mist  {'SourceCode': '{{\n",
       "  \"language\": \"Solidity\",\n",
       "...   \n",
       "1170          Orakuru   {'SourceCode': '{{\n",
       "  \"language\": \"Solidity\",\n",
       "...   \n",
       "\n",
       "      hasFundingRounds                                              links  \\\n",
       "0                False  [{'type': 'web', 'value': 'https://patex.io/'}...   \n",
       "1                False  [{'type': 'web', 'value': 'https://www.cyber-a...   \n",
       "2                False  [{'type': 'web', 'value': 'https://virtualvers...   \n",
       "3                False  [{'type': 'discord', 'value': 'https://discord...   \n",
       "4                False  [{'type': 'web', 'value': 'https://spartadex.i...   \n",
       "...                ...                                                ...   \n",
       "1166              True  [{'type': 'web', 'value': 'https://polylastic....   \n",
       "1167              True  [{'type': 'web', 'value': 'https://nftalley.io...   \n",
       "1168             False  [{'type': 'web', 'value': 'https://www.algopai...   \n",
       "1169             False  [{'type': 'web', 'value': 'https://mist.game/'...   \n",
       "1170              True  [{'type': 'web', 'value': 'https://orakuru.io/...   \n",
       "\n",
       "       volume24hUsd   totalSupply  percentOfCircSupply historyStartDay  \\\n",
       "0               NaN  8.000000e+06                 4.21             NaN   \n",
       "1      29920.120165  5.000000e+09                14.95      2023-10-05   \n",
       "2     663475.492992  1.000000e+09                11.29      2023-09-12   \n",
       "3      36897.969515  1.000000e+09                19.30      2023-08-14   \n",
       "4      34726.685377  1.000000e+08                18.70      2023-08-08   \n",
       "...             ...           ...                  ...             ...   \n",
       "1166  293938.399090  9.825410e+10                72.91      2021-05-10   \n",
       "1167      11.203164  1.000000e+07                86.99      2021-05-20   \n",
       "1168            NaN  1.000000e+08                10.00      2021-05-20   \n",
       "1169   71808.588700  1.000000e+09                 5.64      2021-04-17   \n",
       "1170            NaN  4.447576e+07                52.55      2021-04-08   \n",
       "\n",
       "      lifeCycle  \n",
       "0     crowdsale  \n",
       "1        traded  \n",
       "2        traded  \n",
       "3        traded  \n",
       "4        traded  \n",
       "...         ...  \n",
       "1166     traded  \n",
       "1167     traded  \n",
       "1168   inactive  \n",
       "1169     traded  \n",
       "1170   inactive  \n",
       "\n",
       "[1171 rows x 9 columns]"
      ]
     },
     "execution_count": 308,
     "metadata": {},
     "output_type": "execute_result"
    }
   ],
   "source": [
    "result_df = pd.merge(codes, df_cleaned.drop_duplicates('name'), on='name', how='left')\n",
    "result_df"
   ]
  },
  {
   "cell_type": "markdown",
   "metadata": {},
   "source": [
    "Наша цель - научиться предсказывать LifeCycle по коду криптовалют, для этого выкинем все ненужные признаки\n",
    "volume24hUsd totalSupply percentOfCircSupply is_web_live pragma_version years_from_start"
   ]
  },
  {
   "cell_type": "code",
   "execution_count": 309,
   "metadata": {},
   "outputs": [],
   "source": [
    "result_df = result_df[['name', 'code', 'lifeCycle']]"
   ]
  },
  {
   "cell_type": "code",
   "execution_count": 310,
   "metadata": {},
   "outputs": [
    {
     "data": {
      "text/html": [
       "<div>\n",
       "<style scoped>\n",
       "    .dataframe tbody tr th:only-of-type {\n",
       "        vertical-align: middle;\n",
       "    }\n",
       "\n",
       "    .dataframe tbody tr th {\n",
       "        vertical-align: top;\n",
       "    }\n",
       "\n",
       "    .dataframe thead th {\n",
       "        text-align: right;\n",
       "    }\n",
       "</style>\n",
       "<table border=\"1\" class=\"dataframe\">\n",
       "  <thead>\n",
       "    <tr style=\"text-align: right;\">\n",
       "      <th></th>\n",
       "      <th>name</th>\n",
       "      <th>code</th>\n",
       "      <th>lifeCycle</th>\n",
       "    </tr>\n",
       "  </thead>\n",
       "  <tbody>\n",
       "    <tr>\n",
       "      <th>0</th>\n",
       "      <td>Patex</td>\n",
       "      <td>{'SourceCode': '// OpenZeppelin Contracts v4.4...</td>\n",
       "      <td>crowdsale</td>\n",
       "    </tr>\n",
       "    <tr>\n",
       "      <th>1</th>\n",
       "      <td>Cyber Arena</td>\n",
       "      <td>{'SourceCode': '// File: @openzeppelin/contrac...</td>\n",
       "      <td>traded</td>\n",
       "    </tr>\n",
       "    <tr>\n",
       "      <th>2</th>\n",
       "      <td>Virtual Versions</td>\n",
       "      <td>{'SourceCode': '{{\r\n",
       "  \"language\": \"Solidity\",\r",
       "...</td>\n",
       "      <td>traded</td>\n",
       "    </tr>\n",
       "    <tr>\n",
       "      <th>3</th>\n",
       "      <td>Kryptonite</td>\n",
       "      <td>{'SourceCode': '{{\r\n",
       "  \"language\": \"Solidity\",\r",
       "...</td>\n",
       "      <td>traded</td>\n",
       "    </tr>\n",
       "    <tr>\n",
       "      <th>4</th>\n",
       "      <td>SpartaDEX</td>\n",
       "      <td>{'SourceCode': '{{\r\n",
       "  \"language\": \"Solidity\",\r",
       "...</td>\n",
       "      <td>traded</td>\n",
       "    </tr>\n",
       "  </tbody>\n",
       "</table>\n",
       "</div>"
      ],
      "text/plain": [
       "               name                                               code  \\\n",
       "0             Patex  {'SourceCode': '// OpenZeppelin Contracts v4.4...   \n",
       "1       Cyber Arena  {'SourceCode': '// File: @openzeppelin/contrac...   \n",
       "2  Virtual Versions  {'SourceCode': '{{\n",
       "  \"language\": \"Solidity\",\n",
       "...   \n",
       "3        Kryptonite  {'SourceCode': '{{\n",
       "  \"language\": \"Solidity\",\n",
       "...   \n",
       "4         SpartaDEX  {'SourceCode': '{{\n",
       "  \"language\": \"Solidity\",\n",
       "...   \n",
       "\n",
       "   lifeCycle  \n",
       "0  crowdsale  \n",
       "1     traded  \n",
       "2     traded  \n",
       "3     traded  \n",
       "4     traded  "
      ]
     },
     "execution_count": 310,
     "metadata": {},
     "output_type": "execute_result"
    }
   ],
   "source": [
    "result_df.head()"
   ]
  },
  {
   "cell_type": "markdown",
   "metadata": {},
   "source": [
    "Статус crowdsale означает что криптовалюта ещё не выпущена, нас это не интересует так что удаляем все строчки где lifeCycle = crowdsale"
   ]
  },
  {
   "cell_type": "code",
   "execution_count": 311,
   "metadata": {},
   "outputs": [
    {
     "data": {
      "text/plain": [
       "1       1\n",
       "2       1\n",
       "3       1\n",
       "4       1\n",
       "5       1\n",
       "       ..\n",
       "1166    1\n",
       "1167    1\n",
       "1168    0\n",
       "1169    1\n",
       "1170    0\n",
       "Name: lifeCycle, Length: 1134, dtype: int64"
      ]
     },
     "execution_count": 311,
     "metadata": {},
     "output_type": "execute_result"
    }
   ],
   "source": [
    "result_df = result_df[result_df[\"lifeCycle\"] != 'crowdsale']\n",
    "result_df[\"lifeCycle\"] = result_df[\"lifeCycle\"].apply(lambda x: 1 if x == 'traded' else 0)\n",
    "result_df['lifeCycle']"
   ]
  },
  {
   "cell_type": "code",
   "execution_count": 312,
   "metadata": {},
   "outputs": [
    {
     "data": {
      "text/html": [
       "<div>\n",
       "<style scoped>\n",
       "    .dataframe tbody tr th:only-of-type {\n",
       "        vertical-align: middle;\n",
       "    }\n",
       "\n",
       "    .dataframe tbody tr th {\n",
       "        vertical-align: top;\n",
       "    }\n",
       "\n",
       "    .dataframe thead th {\n",
       "        text-align: right;\n",
       "    }\n",
       "</style>\n",
       "<table border=\"1\" class=\"dataframe\">\n",
       "  <thead>\n",
       "    <tr style=\"text-align: right;\">\n",
       "      <th></th>\n",
       "      <th>name</th>\n",
       "      <th>code</th>\n",
       "      <th>lifeCycle</th>\n",
       "    </tr>\n",
       "  </thead>\n",
       "  <tbody>\n",
       "    <tr>\n",
       "      <th>0</th>\n",
       "      <td>Cyber Arena</td>\n",
       "      <td>{'SourceCode': '// File: @openzeppelin/contrac...</td>\n",
       "      <td>1</td>\n",
       "    </tr>\n",
       "    <tr>\n",
       "      <th>1</th>\n",
       "      <td>Virtual Versions</td>\n",
       "      <td>{'SourceCode': '{{\r\n",
       "  \"language\": \"Solidity\",\r",
       "...</td>\n",
       "      <td>1</td>\n",
       "    </tr>\n",
       "    <tr>\n",
       "      <th>2</th>\n",
       "      <td>Kryptonite</td>\n",
       "      <td>{'SourceCode': '{{\r\n",
       "  \"language\": \"Solidity\",\r",
       "...</td>\n",
       "      <td>1</td>\n",
       "    </tr>\n",
       "    <tr>\n",
       "      <th>3</th>\n",
       "      <td>SpartaDEX</td>\n",
       "      <td>{'SourceCode': '{{\r\n",
       "  \"language\": \"Solidity\",\r",
       "...</td>\n",
       "      <td>1</td>\n",
       "    </tr>\n",
       "    <tr>\n",
       "      <th>4</th>\n",
       "      <td>SophiaVerse</td>\n",
       "      <td>{'SourceCode': '{{\r\n",
       "  \"language\": \"Solidity\",\r",
       "...</td>\n",
       "      <td>1</td>\n",
       "    </tr>\n",
       "  </tbody>\n",
       "</table>\n",
       "</div>"
      ],
      "text/plain": [
       "               name                                               code  \\\n",
       "0       Cyber Arena  {'SourceCode': '// File: @openzeppelin/contrac...   \n",
       "1  Virtual Versions  {'SourceCode': '{{\n",
       "  \"language\": \"Solidity\",\n",
       "...   \n",
       "2        Kryptonite  {'SourceCode': '{{\n",
       "  \"language\": \"Solidity\",\n",
       "...   \n",
       "3         SpartaDEX  {'SourceCode': '{{\n",
       "  \"language\": \"Solidity\",\n",
       "...   \n",
       "4       SophiaVerse  {'SourceCode': '{{\n",
       "  \"language\": \"Solidity\",\n",
       "...   \n",
       "\n",
       "   lifeCycle  \n",
       "0          1  \n",
       "1          1  \n",
       "2          1  \n",
       "3          1  \n",
       "4          1  "
      ]
     },
     "execution_count": 312,
     "metadata": {},
     "output_type": "execute_result"
    }
   ],
   "source": [
    "result_df = pd.concat([result_df, dx_df, cryptorank_df], ignore_index=True)\n",
    "result_df.head()"
   ]
  },
  {
   "cell_type": "markdown",
   "metadata": {},
   "source": [
    "Получили 1512 строчек, немного, но в самый раз для KNN, необходимо лишь определить расстояния, для этого переведем наш код в числа, для этого воспользуемся tfidf  vectorizer"
   ]
  },
  {
   "cell_type": "code",
   "execution_count": 313,
   "metadata": {},
   "outputs": [],
   "source": [
    "from sklearn.feature_extraction.text import TfidfVectorizer"
   ]
  },
  {
   "cell_type": "code",
   "execution_count": 314,
   "metadata": {},
   "outputs": [],
   "source": [
    "vectorizer = TfidfVectorizer()\n",
    "X = vectorizer.fit_transform(result_df['code'].astype(str)).toarray()"
   ]
  },
  {
   "cell_type": "code",
   "execution_count": 315,
   "metadata": {},
   "outputs": [
    {
     "data": {
      "text/plain": [
       "0       1\n",
       "1       1\n",
       "2       1\n",
       "3       1\n",
       "4       1\n",
       "       ..\n",
       "1507    0\n",
       "1508    0\n",
       "1509    1\n",
       "1510    1\n",
       "1511    1\n",
       "Name: lifeCycle, Length: 1512, dtype: int64"
      ]
     },
     "execution_count": 315,
     "metadata": {},
     "output_type": "execute_result"
    }
   ],
   "source": [
    "y = result_df['lifeCycle']\n",
    "y"
   ]
  },
  {
   "cell_type": "markdown",
   "metadata": {},
   "source": [
    "Визуализируем наши данные, для этого воспользуемся методом снижения размерности"
   ]
  },
  {
   "cell_type": "code",
   "execution_count": 316,
   "metadata": {},
   "outputs": [],
   "source": [
    "from sklearn.manifold import TSNE\n",
    "from matplotlib import pyplot as plt"
   ]
  },
  {
   "cell_type": "code",
   "execution_count": 317,
   "metadata": {},
   "outputs": [
    {
     "data": {
      "image/png": "[encoded data removed]",
      "text/plain": [
       "<Figure size 1000x1000 with 1 Axes>"
      ]
     },
     "metadata": {},
     "output_type": "display_data"
    }
   ],
   "source": [
    "X_embedded = TSNE(n_components=2).fit_transform(X)\n",
    "plt.figure(figsize=(10, 10))\n",
    "plt.scatter(X_embedded[:, 0], X_embedded[:, 1], c = y)\n",
    "plt.show()"
   ]
  },
  {
   "cell_type": "markdown",
   "metadata": {},
   "source": [
    "Получив матрицу признаков и столбец ответ поделим наши данные на валидационную, тренировочную и тестовую часть"
   ]
  },
  {
   "cell_type": "markdown",
   "metadata": {},
   "source": [
    "# Обучение на необработанных данных"
   ]
  },
  {
   "cell_type": "markdown",
   "metadata": {},
   "source": [
    "Посмотрим результаты обучения на не очищенном от комментариев, знаков препинания и т.д. кодах"
   ]
  },
  {
   "cell_type": "code",
   "execution_count": 318,
   "metadata": {},
   "outputs": [],
   "source": [
    "from sklearn.model_selection import train_test_split"
   ]
  },
  {
   "cell_type": "code",
   "execution_count": 319,
   "metadata": {},
   "outputs": [
    {
     "data": {
      "text/plain": [
       "(1020, 340, 152)"
      ]
     },
     "execution_count": 319,
     "metadata": {},
     "output_type": "execute_result"
    }
   ],
   "source": [
    "X_train, X_test, y_train, y_test = train_test_split(X, y, test_size=0.1)\n",
    "X_train, X_val, y_train, y_val = train_test_split(X_train, y_train, test_size=0.25)\n",
    "len(X_train), len(X_val), len(X_test)"
   ]
  },
  {
   "cell_type": "markdown",
   "metadata": {},
   "source": [
    "Всё готово для того, чтобы воспользоваться методом ближайших соседей, метрикой качества у нас будет точность или сбалансированная точность так как датасет несбалансирован"
   ]
  },
  {
   "cell_type": "code",
   "execution_count": 320,
   "metadata": {},
   "outputs": [],
   "source": [
    "from sklearn.neighbors import KNeighborsClassifier\n",
    "from sklearn.metrics import balanced_accuracy_score"
   ]
  },
  {
   "cell_type": "code",
   "execution_count": 321,
   "metadata": {},
   "outputs": [
    {
     "name": "stdout",
     "output_type": "stream",
     "text": [
      "0.5840780015091942\n"
     ]
    }
   ],
   "source": [
    "model = KNeighborsClassifier(n_neighbors=3)\n",
    "model.fit(X_train, y_train)\n",
    "y_pred = model.predict(X_val)\n",
    "print(balanced_accuracy_score(y_val, y_pred))"
   ]
  },
  {
   "cell_type": "markdown",
   "metadata": {},
   "source": [
    "Отлично! Теперь можем попробовать подобрать число соседей"
   ]
  },
  {
   "cell_type": "code",
   "execution_count": 322,
   "metadata": {},
   "outputs": [],
   "source": [
    "from sklearn.model_selection import GridSearchCV\n",
    "import numpy as np"
   ]
  },
  {
   "cell_type": "code",
   "execution_count": 323,
   "metadata": {},
   "outputs": [
    {
     "data": {
      "text/html": [
       "<style>#sk-container-id-12 {color: black;}#sk-container-id-12 pre{padding: 0;}#sk-container-id-12 div.sk-toggleable {background-color: white;}#sk-container-id-12 label.sk-toggleable__label {cursor: pointer;display: block;width: 100%;margin-bottom: 0;padding: 0.3em;box-sizing: border-box;text-align: center;}#sk-container-id-12 label.sk-toggleable__label-arrow:before {content: \"▸\";float: left;margin-right: 0.25em;color: #696969;}#sk-container-id-12 label.sk-toggleable__label-arrow:hover:before {color: black;}#sk-container-id-12 div.sk-estimator:hover label.sk-toggleable__label-arrow:before {color: black;}#sk-container-id-12 div.sk-toggleable__content {max-height: 0;max-width: 0;overflow: hidden;text-align: left;background-color: #f0f8ff;}#sk-container-id-12 div.sk-toggleable__content pre {margin: 0.2em;color: black;border-radius: 0.25em;background-color: #f0f8ff;}#sk-container-id-12 input.sk-toggleable__control:checked~div.sk-toggleable__content {max-height: 200px;max-width: 100%;overflow: auto;}#sk-container-id-12 input.sk-toggleable__control:checked~label.sk-toggleable__label-arrow:before {content: \"▾\";}#sk-container-id-12 div.sk-estimator input.sk-toggleable__control:checked~label.sk-toggleable__label {background-color: #d4ebff;}#sk-container-id-12 div.sk-label input.sk-toggleable__control:checked~label.sk-toggleable__label {background-color: #d4ebff;}#sk-container-id-12 input.sk-hidden--visually {border: 0;clip: rect(1px 1px 1px 1px);clip: rect(1px, 1px, 1px, 1px);height: 1px;margin: -1px;overflow: hidden;padding: 0;position: absolute;width: 1px;}#sk-container-id-12 div.sk-estimator {font-family: monospace;background-color: #f0f8ff;border: 1px dotted black;border-radius: 0.25em;box-sizing: border-box;margin-bottom: 0.5em;}#sk-container-id-12 div.sk-estimator:hover {background-color: #d4ebff;}#sk-container-id-12 div.sk-parallel-item::after {content: \"\";width: 100%;border-bottom: 1px solid gray;flex-grow: 1;}#sk-container-id-12 div.sk-label:hover label.sk-toggleable__label {background-color: #d4ebff;}#sk-container-id-12 div.sk-serial::before {content: \"\";position: absolute;border-left: 1px solid gray;box-sizing: border-box;top: 0;bottom: 0;left: 50%;z-index: 0;}#sk-container-id-12 div.sk-serial {display: flex;flex-direction: column;align-items: center;background-color: white;padding-right: 0.2em;padding-left: 0.2em;position: relative;}#sk-container-id-12 div.sk-item {position: relative;z-index: 1;}#sk-container-id-12 div.sk-parallel {display: flex;align-items: stretch;justify-content: center;background-color: white;position: relative;}#sk-container-id-12 div.sk-item::before, #sk-container-id-12 div.sk-parallel-item::before {content: \"\";position: absolute;border-left: 1px solid gray;box-sizing: border-box;top: 0;bottom: 0;left: 50%;z-index: -1;}#sk-container-id-12 div.sk-parallel-item {display: flex;flex-direction: column;z-index: 1;position: relative;background-color: white;}#sk-container-id-12 div.sk-parallel-item:first-child::after {align-self: flex-end;width: 50%;}#sk-container-id-12 div.sk-parallel-item:last-child::after {align-self: flex-start;width: 50%;}#sk-container-id-12 div.sk-parallel-item:only-child::after {width: 0;}#sk-container-id-12 div.sk-dashed-wrapped {border: 1px dashed gray;margin: 0 0.4em 0.5em 0.4em;box-sizing: border-box;padding-bottom: 0.4em;background-color: white;}#sk-container-id-12 div.sk-label label {font-family: monospace;font-weight: bold;display: inline-block;line-height: 1.2em;}#sk-container-id-12 div.sk-label-container {text-align: center;}#sk-container-id-12 div.sk-container {/* jupyter's `normalize.less` sets `[hidden] { display: none; }` but bootstrap.min.css set `[hidden] { display: none !important; }` so we also need the `!important` here to be able to override the default hidden behavior on the sphinx rendered scikit-learn.org. See: https://github.com/scikit-learn/scikit-learn/issues/21755 */display: inline-block !important;position: relative;}#sk-container-id-12 div.sk-text-repr-fallback {display: none;}</style><div id=\"sk-container-id-12\" class=\"sk-top-container\"><div class=\"sk-text-repr-fallback\"><pre>GridSearchCV(estimator=KNeighborsClassifier(),\n",
       "             param_grid={&#x27;n_neighbors&#x27;: array([1, 2, 3, 4, 5, 6, 7, 8, 9])},\n",
       "             scoring=&#x27;balanced_accuracy&#x27;)</pre><b>In a Jupyter environment, please rerun this cell to show the HTML representation or trust the notebook. <br />On GitHub, the HTML representation is unable to render, please try loading this page with nbviewer.org.</b></div><div class=\"sk-container\" hidden><div class=\"sk-item sk-dashed-wrapped\"><div class=\"sk-label-container\"><div class=\"sk-label sk-toggleable\"><input class=\"sk-toggleable__control sk-hidden--visually\" id=\"sk-estimator-id-26\" type=\"checkbox\" ><label for=\"sk-estimator-id-26\" class=\"sk-toggleable__label sk-toggleable__label-arrow\">GridSearchCV</label><div class=\"sk-toggleable__content\"><pre>GridSearchCV(estimator=KNeighborsClassifier(),\n",
       "             param_grid={&#x27;n_neighbors&#x27;: array([1, 2, 3, 4, 5, 6, 7, 8, 9])},\n",
       "             scoring=&#x27;balanced_accuracy&#x27;)</pre></div></div></div><div class=\"sk-parallel\"><div class=\"sk-parallel-item\"><div class=\"sk-item\"><div class=\"sk-label-container\"><div class=\"sk-label sk-toggleable\"><input class=\"sk-toggleable__control sk-hidden--visually\" id=\"sk-estimator-id-27\" type=\"checkbox\" ><label for=\"sk-estimator-id-27\" class=\"sk-toggleable__label sk-toggleable__label-arrow\">estimator: KNeighborsClassifier</label><div class=\"sk-toggleable__content\"><pre>KNeighborsClassifier()</pre></div></div></div><div class=\"sk-serial\"><div class=\"sk-item\"><div class=\"sk-estimator sk-toggleable\"><input class=\"sk-toggleable__control sk-hidden--visually\" id=\"sk-estimator-id-28\" type=\"checkbox\" ><label for=\"sk-estimator-id-28\" class=\"sk-toggleable__label sk-toggleable__label-arrow\">KNeighborsClassifier</label><div class=\"sk-toggleable__content\"><pre>KNeighborsClassifier()</pre></div></div></div></div></div></div></div></div></div></div>"
      ],
      "text/plain": [
       "GridSearchCV(estimator=KNeighborsClassifier(),\n",
       "             param_grid={'n_neighbors': array([1, 2, 3, 4, 5, 6, 7, 8, 9])},\n",
       "             scoring='balanced_accuracy')"
      ]
     },
     "execution_count": 323,
     "metadata": {},
     "output_type": "execute_result"
    }
   ],
   "source": [
    "param_grid = {\n",
    "    'n_neighbors': np.arange(1, 10, 1),\n",
    "}\n",
    "\n",
    "search = GridSearchCV(KNeighborsClassifier(), param_grid=param_grid, scoring='balanced_accuracy')\n",
    "search.fit(X_train, y_train)"
   ]
  },
  {
   "cell_type": "code",
   "execution_count": 324,
   "metadata": {},
   "outputs": [
    {
     "data": {
      "text/plain": [
       "0.5634183480155347"
      ]
     },
     "execution_count": 324,
     "metadata": {},
     "output_type": "execute_result"
    }
   ],
   "source": [
    "search.best_score_"
   ]
  },
  {
   "cell_type": "code",
   "execution_count": 325,
   "metadata": {},
   "outputs": [
    {
     "name": "stdout",
     "output_type": "stream",
     "text": [
      "0.5879502760236706\n"
     ]
    }
   ],
   "source": [
    "y_pred = search.predict(X_val)\n",
    "print(balanced_accuracy_score(y_val, y_pred))"
   ]
  },
  {
   "cell_type": "code",
   "execution_count": 326,
   "metadata": {},
   "outputs": [
    {
     "data": {
      "text/plain": [
       "{'n_neighbors': 4}"
      ]
     },
     "execution_count": 326,
     "metadata": {},
     "output_type": "execute_result"
    }
   ],
   "source": [
    "search.best_params_"
   ]
  },
  {
   "cell_type": "markdown",
   "metadata": {},
   "source": [
    "С числом ближайших соседей 1 получается лучший результат, далёкий от того, который бы хотелось получить. Попробуем сделать ещё одну итерацию, в этот раз с решающими деревьями"
   ]
  },
  {
   "cell_type": "code",
   "execution_count": 327,
   "metadata": {},
   "outputs": [],
   "source": [
    "from sklearn.tree import DecisionTreeClassifier"
   ]
  },
  {
   "cell_type": "code",
   "execution_count": 328,
   "metadata": {},
   "outputs": [
    {
     "data": {
      "text/html": [
       "<style>#sk-container-id-13 {color: black;}#sk-container-id-13 pre{padding: 0;}#sk-container-id-13 div.sk-toggleable {background-color: white;}#sk-container-id-13 label.sk-toggleable__label {cursor: pointer;display: block;width: 100%;margin-bottom: 0;padding: 0.3em;box-sizing: border-box;text-align: center;}#sk-container-id-13 label.sk-toggleable__label-arrow:before {content: \"▸\";float: left;margin-right: 0.25em;color: #696969;}#sk-container-id-13 label.sk-toggleable__label-arrow:hover:before {color: black;}#sk-container-id-13 div.sk-estimator:hover label.sk-toggleable__label-arrow:before {color: black;}#sk-container-id-13 div.sk-toggleable__content {max-height: 0;max-width: 0;overflow: hidden;text-align: left;background-color: #f0f8ff;}#sk-container-id-13 div.sk-toggleable__content pre {margin: 0.2em;color: black;border-radius: 0.25em;background-color: #f0f8ff;}#sk-container-id-13 input.sk-toggleable__control:checked~div.sk-toggleable__content {max-height: 200px;max-width: 100%;overflow: auto;}#sk-container-id-13 input.sk-toggleable__control:checked~label.sk-toggleable__label-arrow:before {content: \"▾\";}#sk-container-id-13 div.sk-estimator input.sk-toggleable__control:checked~label.sk-toggleable__label {background-color: #d4ebff;}#sk-container-id-13 div.sk-label input.sk-toggleable__control:checked~label.sk-toggleable__label {background-color: #d4ebff;}#sk-container-id-13 input.sk-hidden--visually {border: 0;clip: rect(1px 1px 1px 1px);clip: rect(1px, 1px, 1px, 1px);height: 1px;margin: -1px;overflow: hidden;padding: 0;position: absolute;width: 1px;}#sk-container-id-13 div.sk-estimator {font-family: monospace;background-color: #f0f8ff;border: 1px dotted black;border-radius: 0.25em;box-sizing: border-box;margin-bottom: 0.5em;}#sk-container-id-13 div.sk-estimator:hover {background-color: #d4ebff;}#sk-container-id-13 div.sk-parallel-item::after {content: \"\";width: 100%;border-bottom: 1px solid gray;flex-grow: 1;}#sk-container-id-13 div.sk-label:hover label.sk-toggleable__label {background-color: #d4ebff;}#sk-container-id-13 div.sk-serial::before {content: \"\";position: absolute;border-left: 1px solid gray;box-sizing: border-box;top: 0;bottom: 0;left: 50%;z-index: 0;}#sk-container-id-13 div.sk-serial {display: flex;flex-direction: column;align-items: center;background-color: white;padding-right: 0.2em;padding-left: 0.2em;position: relative;}#sk-container-id-13 div.sk-item {position: relative;z-index: 1;}#sk-container-id-13 div.sk-parallel {display: flex;align-items: stretch;justify-content: center;background-color: white;position: relative;}#sk-container-id-13 div.sk-item::before, #sk-container-id-13 div.sk-parallel-item::before {content: \"\";position: absolute;border-left: 1px solid gray;box-sizing: border-box;top: 0;bottom: 0;left: 50%;z-index: -1;}#sk-container-id-13 div.sk-parallel-item {display: flex;flex-direction: column;z-index: 1;position: relative;background-color: white;}#sk-container-id-13 div.sk-parallel-item:first-child::after {align-self: flex-end;width: 50%;}#sk-container-id-13 div.sk-parallel-item:last-child::after {align-self: flex-start;width: 50%;}#sk-container-id-13 div.sk-parallel-item:only-child::after {width: 0;}#sk-container-id-13 div.sk-dashed-wrapped {border: 1px dashed gray;margin: 0 0.4em 0.5em 0.4em;box-sizing: border-box;padding-bottom: 0.4em;background-color: white;}#sk-container-id-13 div.sk-label label {font-family: monospace;font-weight: bold;display: inline-block;line-height: 1.2em;}#sk-container-id-13 div.sk-label-container {text-align: center;}#sk-container-id-13 div.sk-container {/* jupyter's `normalize.less` sets `[hidden] { display: none; }` but bootstrap.min.css set `[hidden] { display: none !important; }` so we also need the `!important` here to be able to override the default hidden behavior on the sphinx rendered scikit-learn.org. See: https://github.com/scikit-learn/scikit-learn/issues/21755 */display: inline-block !important;position: relative;}#sk-container-id-13 div.sk-text-repr-fallback {display: none;}</style><div id=\"sk-container-id-13\" class=\"sk-top-container\"><div class=\"sk-text-repr-fallback\"><pre>DecisionTreeClassifier()</pre><b>In a Jupyter environment, please rerun this cell to show the HTML representation or trust the notebook. <br />On GitHub, the HTML representation is unable to render, please try loading this page with nbviewer.org.</b></div><div class=\"sk-container\" hidden><div class=\"sk-item\"><div class=\"sk-estimator sk-toggleable\"><input class=\"sk-toggleable__control sk-hidden--visually\" id=\"sk-estimator-id-29\" type=\"checkbox\" checked><label for=\"sk-estimator-id-29\" class=\"sk-toggleable__label sk-toggleable__label-arrow\">DecisionTreeClassifier</label><div class=\"sk-toggleable__content\"><pre>DecisionTreeClassifier()</pre></div></div></div></div></div>"
      ],
      "text/plain": [
       "DecisionTreeClassifier()"
      ]
     },
     "execution_count": 328,
     "metadata": {},
     "output_type": "execute_result"
    }
   ],
   "source": [
    "model = DecisionTreeClassifier()\n",
    "\n",
    "model.fit(X_train, y_train)"
   ]
  },
  {
   "cell_type": "code",
   "execution_count": 329,
   "metadata": {},
   "outputs": [
    {
     "name": "stdout",
     "output_type": "stream",
     "text": [
      "0.5335199968227491\n"
     ]
    }
   ],
   "source": [
    "y_pred = model.predict(X_val)\n",
    "print(balanced_accuracy_score(y_val, y_pred))"
   ]
  },
  {
   "cell_type": "markdown",
   "metadata": {},
   "source": [
    "С параметрами по умолчанию получилось хуже чем у лучшего KNN, попробуем добавить поиск гиперпараметров"
   ]
  },
  {
   "cell_type": "code",
   "execution_count": 330,
   "metadata": {},
   "outputs": [
    {
     "name": "stdout",
     "output_type": "stream",
     "text": [
      "0.5736129314110965\n"
     ]
    }
   ],
   "source": [
    "param_grid = {\n",
    "    'max_depth': np.arange(1, 15, 2),\n",
    "}\n",
    "\n",
    "search = GridSearchCV(DecisionTreeClassifier(), param_grid=param_grid, scoring='balanced_accuracy')\n",
    "search.fit(X_train, y_train)\n",
    "y_pred = search.predict(X_val)\n",
    "\n",
    "print(balanced_accuracy_score(y_val, y_pred))"
   ]
  },
  {
   "cell_type": "markdown",
   "metadata": {},
   "source": [
    "Добились ещё одного процента качества"
   ]
  },
  {
   "cell_type": "markdown",
   "metadata": {},
   "source": [
    "Посмотрим насколько велика ошибка на трейне"
   ]
  },
  {
   "cell_type": "markdown",
   "metadata": {},
   "source": [
    "как насчёт бэггинга ? Рандомфорест"
   ]
  },
  {
   "cell_type": "code",
   "execution_count": 331,
   "metadata": {},
   "outputs": [],
   "source": [
    "from sklearn.ensemble import RandomForestClassifier"
   ]
  },
  {
   "cell_type": "code",
   "execution_count": 332,
   "metadata": {},
   "outputs": [
    {
     "name": "stdout",
     "output_type": "stream",
     "text": [
      "0.6104094682076333\n"
     ]
    }
   ],
   "source": [
    "model = RandomForestClassifier()\n",
    "\n",
    "model.fit(X_train, y_train)\n",
    "y_pred = model.predict(X_val)\n",
    "print(balanced_accuracy_score(y_val, y_pred))"
   ]
  },
  {
   "cell_type": "code",
   "execution_count": 333,
   "metadata": {},
   "outputs": [
    {
     "name": "stdout",
     "output_type": "stream",
     "text": [
      "0.9758021799139576\n"
     ]
    }
   ],
   "source": [
    "y_pred = model.predict(X_train)\n",
    "print(balanced_accuracy_score(y_train, y_pred))"
   ]
  },
  {
   "cell_type": "markdown",
   "metadata": {},
   "source": [
    "подберём гиперпараметры для леса"
   ]
  },
  {
   "cell_type": "code",
   "execution_count": 334,
   "metadata": {},
   "outputs": [
    {
     "name": "stdout",
     "output_type": "stream",
     "text": [
      "0.5999443981095357\n"
     ]
    }
   ],
   "source": [
    "param_grid = {\n",
    "    'max_depth': np.arange(1, 15, 2),\n",
    "}\n",
    "\n",
    "search = GridSearchCV(RandomForestClassifier(), param_grid=param_grid, scoring='balanced_accuracy')\n",
    "search.fit(X_train, y_train)\n",
    "y_pred = search.predict(X_val)\n",
    "\n",
    "print(balanced_accuracy_score(y_val, y_pred))"
   ]
  },
  {
   "cell_type": "markdown",
   "metadata": {},
   "source": [
    "Попробуем бустинг, сможет ли он найти результат получше\n"
   ]
  },
  {
   "cell_type": "markdown",
   "metadata": {},
   "source": [
    "# Обработка данных"
   ]
  },
  {
   "cell_type": "markdown",
   "metadata": {},
   "source": [
    "Немножко обработаем код, уберем из него все скобки, знаки \\n, \\r, знаки препинания"
   ]
  },
  {
   "cell_type": "code",
   "execution_count": 335,
   "metadata": {},
   "outputs": [
    {
     "data": {
      "text/plain": [
       "'// File: @openzeppelin/contracts/utils/Context.sol\\r\\n\\r\\n\\r\\n// OpenZeppelin Contracts v4.4.1 (utils/Context.sol)\\r\\n\\r\\npragma solidity ^0.8.0;\\r\\n\\r\\n/**\\r\\n * @dev Provides information about the current execution context, including the\\r\\n * sender of the transaction and its data. While these are generally available\\r\\n * via msg.sender and msg.data, they should not be accessed in such a direct\\r\\n * manner, since when dealing with meta-transactions the account sending and\\r\\n * paying for execution may not be the actual sender (as far as an application\\r\\n * is concerned).\\r\\n *\\r\\n * This contract is only required for intermediate, library-like contracts.\\r\\n */\\r\\nabstract contract Context {\\r\\n    function _msgSender() internal view virtual returns (address) {\\r\\n        return msg.sender;\\r\\n    }\\r\\n\\r\\n    function _msgData() internal view virtual returns (bytes calldata) {\\r\\n        return msg.data;\\r\\n    }\\r\\n}\\r\\n\\r\\n// File: @openzeppelin/contracts/access/Ownable.sol\\r\\n\\r\\n\\r\\n// OpenZeppelin Contracts (last updated v4.7.0) (access/Ownable.sol)\\r\\n\\r\\npragma solidity ^0.8.0;\\r\\n\\r\\n\\r\\n/**\\r\\n * @dev Contract module which provides a basic access control mechanism, where\\r\\n * there is an account (an owner) that can be granted exclusive access to\\r\\n * specific functions.\\r\\n *\\r\\n * By default, the owner account will be the one that deploys the contract. This\\r\\n * can later be changed with {transferOwnership}.\\r\\n *\\r\\n * This module is used through inheritance. It will make available the modifier\\r\\n * `onlyOwner`, which can be applied to your functions to restrict their use to\\r\\n * the owner.\\r\\n */\\r\\nabstract contract Ownable is Context {\\r\\n    address private _owner;\\r\\n\\r\\n    event OwnershipTransferred(address indexed previousOwner, address indexed newOwner);\\r\\n\\r\\n    /**\\r\\n     * @dev Initializes the contract setting the deployer as the initial owner.\\r\\n     */\\r\\n    constructor() {\\r\\n        _transferOwnership(_msgSender());\\r\\n    }\\r\\n\\r\\n    /**\\r\\n     * @dev Throws if called by any account other than the owner.\\r\\n     */\\r\\n    modifier onlyOwner() {\\r\\n        _checkOwner();\\r\\n        _;\\r\\n    }\\r\\n\\r\\n    /**\\r\\n     * @dev Returns the address of the current owner.\\r\\n     */\\r\\n    function owner() public view virtual returns (address) {\\r\\n        return _owner;\\r\\n    }\\r\\n\\r\\n    /**\\r\\n     * @dev Throws if the sender is not the owner.\\r\\n     */\\r\\n    function _checkOwner() internal view virtual {\\r\\n        require(owner() == _msgSender(), \"Ownable: caller is not the owner\");\\r\\n    }\\r\\n\\r\\n    /**\\r\\n     * @dev Leaves the contract without owner. It will not be possible to call\\r\\n     * `onlyOwner` functions anymore. Can only be called by the current owner.\\r\\n     *\\r\\n     * NOTE: Renouncing ownership will leave the contract without an owner,\\r\\n     * thereby removing any functionality that is only available to the owner.\\r\\n     */\\r\\n    function renounceOwnership() public virtual onlyOwner {\\r\\n        _transferOwnership(address(0));\\r\\n    }\\r\\n\\r\\n    /**\\r\\n     * @dev Transfers ownership of the contract to a new account (`newOwner`).\\r\\n     * Can only be called by'"
      ]
     },
     "execution_count": 335,
     "metadata": {},
     "output_type": "execute_result"
    }
   ],
   "source": [
    "result_df['code'].iloc[0]['SourceCode'][:3000]"
   ]
  },
  {
   "cell_type": "code",
   "execution_count": 336,
   "metadata": {},
   "outputs": [
    {
     "data": {
      "text/plain": [
       "'{\\'SourceCode\\': \\'// File: \\\\r\\\\n\\\\r\\\\n\\\\r\\\\n// OpenZeppelin Contracts v4.4.1 (utils/Context.sol)\\\\r\\\\n\\\\r\\\\npragma solidity ^0.8.0;\\\\r\\\\n\\\\r\\\\n/**\\\\r\\\\n *  Provides information about the current execution context, including the\\\\r\\\\n * sender of the transaction and its data. While these are generally available\\\\r\\\\n * via msg.sender and msg.data, they should not be accessed in such a direct\\\\r\\\\n * manner, since when dealing with meta-transactions the account sending and\\\\r\\\\n * paying for execution may not be the actual sender (as far as an application\\\\r\\\\n * is concerned).\\\\r\\\\n *\\\\r\\\\n * This contract is only required for intermediate, library-like contracts.\\\\r\\\\n */\\\\r\\\\nabstract contract Context {\\\\r\\\\n    function _msgSender() internal view virtual returns (address) {\\\\r\\\\n        return msg.sender;\\\\r\\\\n    }\\\\r\\\\n\\\\r\\\\n    function _msgData() internal view virtual returns (bytes calldata) {\\\\r\\\\n        return msg.data;\\\\r\\\\n    }\\\\r\\\\n}\\\\r\\\\n\\\\r\\\\n// File: \\\\r\\\\n\\\\r\\\\n\\\\r\\\\n// OpenZeppelin Contracts (last updated v4.7.0) (access/Ownable.sol)\\\\r\\\\n\\\\r\\\\npragma solidity ^0.8.0;\\\\r\\\\n\\\\r\\\\n\\\\r\\\\n/**\\\\r\\\\n *  Contract module which provides a basic access control mechanism, where\\\\r\\\\n * there is an account (an owner) that can be granted exclusive access to\\\\r\\\\n * specific functions.\\\\r\\\\n *\\\\r\\\\n * By default, the owner account will be the one that deploys the contract. This\\\\r\\\\n * can later be changed with {transferOwnership}.\\\\r\\\\n *\\\\r\\\\n * This module is used through inheritance. It will make available the modifier\\\\r\\\\n * `onlyOwner`, which can be applied to your functions to restrict their use to\\\\r\\\\n * the owner.\\\\r\\\\n */\\\\r\\\\nabstract contract Ownable is Context {\\\\r\\\\n    address private _owner;\\\\r\\\\n\\\\r\\\\n    event OwnershipTransferred(address indexed previousOwner, address indexed newOwner);\\\\r\\\\n\\\\r\\\\n    /**\\\\r\\\\n     *  Initializes the contract setting the deployer as the initial owner.\\\\r\\\\n     */\\\\r\\\\n    constructor() {\\\\r\\\\n        _transferOwnership(_msgSender());\\\\r\\\\n    }\\\\r\\\\n\\\\r\\\\n    /**\\\\r\\\\n     *  Throws if called by any account other than the owner.\\\\r\\\\n     */\\\\r\\\\n    modifier onlyOwner() {\\\\r\\\\n        _checkOwner();\\\\r\\\\n        _;\\\\r\\\\n    }\\\\r\\\\n\\\\r\\\\n    /**\\\\r\\\\n     *  Returns the address of the current owner.\\\\r\\\\n     */\\\\r\\\\n    function owner() public view virtual returns (address) {\\\\r\\\\n        return _owner;\\\\r\\\\n    }\\\\r\\\\n\\\\r\\\\n    /**\\\\r\\\\n     *  Throws if the sender is not the owner.\\\\r\\\\n     */\\\\r\\\\n    function _checkOwner() internal view virtual {\\\\r\\\\n        require(owner() == _msgSender(), \"Ownable: caller is not the owner\");\\\\r\\\\n    }\\\\r\\\\n\\\\r\\\\n    /**\\\\r\\\\n     *  Leaves the contract without owner. It will not be possible to call\\\\r\\\\n     * `onlyOwner` functions anymore. Can only be called by the current owner.\\\\r\\\\n     *\\\\r\\\\n     * NOTE: Renouncing ownership will leave the contract without an owner,\\\\r\\\\n     * thereby removing any functionality that is only available to the owner.\\\\r\\\\n     */\\\\r\\\\n    function renounceOwnership() public virtual onlyOwner {\\\\r\\\\n        _transferOwnership(address(0));\\\\r\\\\n    }\\\\r\\\\n\\\\r\\\\n    /**\\\\r\\\\n     *  Transfers'"
      ]
     },
     "execution_count": 336,
     "metadata": {},
     "output_type": "execute_result"
    }
   ],
   "source": [
    "import re\n",
    "pattern = re.compile(r'@[a-zA-Z0-9/.]+')\n",
    "pattern.sub('', str(result_df['code'].iloc[0]))[:3000]"
   ]
  },
  {
   "cell_type": "code",
   "execution_count": 337,
   "metadata": {},
   "outputs": [
    {
     "data": {
      "text/plain": [
       "0    {'SourceCode': '// File: @openzeppelin/contrac...\n",
       "1    {'SourceCode': '{{\n",
       "  \"language\": \"Solidity\",\n",
       "...\n",
       "2    {'SourceCode': '{{\n",
       "  \"language\": \"Solidity\",\n",
       "...\n",
       "3    {'SourceCode': '{{\n",
       "  \"language\": \"Solidity\",\n",
       "...\n",
       "4    {'SourceCode': '{{\n",
       "  \"language\": \"Solidity\",\n",
       "...\n",
       "Name: code, dtype: object"
      ]
     },
     "execution_count": 337,
     "metadata": {},
     "output_type": "execute_result"
    }
   ],
   "source": [
    "result_df['code'].head()"
   ]
  },
  {
   "cell_type": "code",
   "execution_count": 338,
   "metadata": {},
   "outputs": [
    {
     "data": {
      "text/plain": [
       "0    SourceCode  (utils )pragma solidity ^0.8.0    ...\n",
       "1    SourceCode  language Solidity  settings   evmV...\n",
       "2    SourceCode  language Solidity  sources       c...\n",
       "3    SourceCode  language Solidity  sources       c...\n",
       "4    SourceCode  language Solidity  sources       c...\n",
       "Name: code, dtype: object"
      ]
     },
     "execution_count": 338,
     "metadata": {},
     "output_type": "execute_result"
    }
   ],
   "source": [
    "re.DOTALL = False\n",
    "cleaned_df = result_df.copy()\n",
    "to_replace = '{}/,.:;*'\n",
    "cleaned_df.loc[:, ('code')] = cleaned_df.loc[:, ('code')].astype(str).str.replace(r'@[a-zA-Z0-9/.,:\\-\\'`_ ]+', ' ', regex=True)\n",
    "cleaned_df.loc[:, ('code')] = cleaned_df.loc[:, ('code')].astype(str).str.replace(r'/[a-zA-Z0-9/.,:\\-\\'`_ ]+', ' ', regex=True)\n",
    "cleaned_df.loc[:, ('code')] = cleaned_df.loc[:, ('code')].astype(str).str.replace(r'\\*[a-zA-Z0-9/.,:\\-\\'`_ ]+', ' ', regex=True)\n",
    "\n",
    "to_replace = ['\\\\r', '\\\\n', '\\'', '\\\"', '', '\\r', '\\n', '{', '}', '/', '*', ';', ':']\n",
    "for substr in to_replace:\n",
    "    cleaned_df.loc[:, ('code')] = cleaned_df.loc[:, ('code')].astype(str).str.replace(substr, '')\n",
    "\n",
    "cleaned_df.loc[:, ('code')] = cleaned_df.loc[:, ('code')].astype(str).str.replace('  ', ' ')\n",
    "cleaned_df.loc[:, ('code')] = cleaned_df.loc[:, ('code')].astype(str).str.replace(',', ' ')\n",
    "cleaned_df['code'].head()"
   ]
  },
  {
   "cell_type": "code",
   "execution_count": 339,
   "metadata": {},
   "outputs": [
    {
     "name": "stdout",
     "output_type": "stream",
     "text": [
      "SourceCode  (utils )pragma solidity ^0.8.0     (as far as an application ).   abstract contract Context   function _msgSender() internal view virtual returns (address)     return msg.sender    function _msgData() internal view virtual returns (bytes calldata)     return msg.data   (last updated v4.7.0) (access )pragma solidity ^0.8.0  (an owner) that can be granted exclusive access to    transferOwnership.     abstract contract Ownable is Context   address private _owner  event OwnershipTransfer\n"
     ]
    },
    {
     "data": {
      "text/plain": [
       "'// File: @openzeppelin/contracts/utils/Context.sol\\r\\n\\r\\n\\r\\n// OpenZeppelin Contracts v4.4.1 (utils/Context.sol)\\r\\n\\r\\npragma solidity ^0.8.0;\\r\\n\\r\\n/**\\r\\n * @dev Provides information about the current execution context, including the\\r\\n * sender of the transaction and its data. While these are generally available\\r\\n * via msg.sender and msg.data, they should not be accessed in such a direct\\r\\n * manner, since when dealing with meta-transactions the account sending and\\r\\n * paying for execution may not be the '"
      ]
     },
     "execution_count": 339,
     "metadata": {},
     "output_type": "execute_result"
    }
   ],
   "source": [
    "print(cleaned_df['code'].iloc[0][:500])\n",
    "result_df['code'].iloc[0]['SourceCode'][:500]"
   ]
  },
  {
   "cell_type": "code",
   "execution_count": 340,
   "metadata": {},
   "outputs": [
    {
     "data": {
      "text/plain": [
       "0       1\n",
       "1       1\n",
       "2       1\n",
       "3       1\n",
       "4       1\n",
       "       ..\n",
       "1507    0\n",
       "1508    0\n",
       "1509    1\n",
       "1510    1\n",
       "1511    1\n",
       "Name: lifeCycle, Length: 1512, dtype: int64"
      ]
     },
     "execution_count": 340,
     "metadata": {},
     "output_type": "execute_result"
    }
   ],
   "source": [
    "vectorizer = TfidfVectorizer()\n",
    "X = vectorizer.fit_transform(cleaned_df['code'].astype(str)).toarray()\n",
    "y = cleaned_df['lifeCycle']\n",
    "y"
   ]
  },
  {
   "cell_type": "code",
   "execution_count": 341,
   "metadata": {},
   "outputs": [
    {
     "data": {
      "text/plain": [
       "(1013, 499, 1013)"
      ]
     },
     "execution_count": 341,
     "metadata": {},
     "output_type": "execute_result"
    }
   ],
   "source": [
    "len(y[y == 1]), len(y[y == 0]), len(X[y == 1])"
   ]
  },
  {
   "cell_type": "markdown",
   "metadata": {},
   "source": [
    "Данные несбалансированы, меток класса 1 в два раза больше чем меток класса 2 "
   ]
  },
  {
   "cell_type": "markdown",
   "metadata": {},
   "source": [
    "# Обучение на сбалансированных данных"
   ]
  },
  {
   "cell_type": "markdown",
   "metadata": {},
   "source": [
    "## Балансировка данных"
   ]
  },
  {
   "cell_type": "code",
   "execution_count": 342,
   "metadata": {},
   "outputs": [],
   "source": [
    "def split_balanced_and_validation(X, y):\n",
    "    eq_len = len(y[y == 0])\n",
    "\n",
    "    balanced_X = []\n",
    "    balanced_y = []\n",
    "\n",
    "    validation_X = []\n",
    "    validation_y = []\n",
    "    for i in range(len(X)):\n",
    "        if y.iloc[i] == 1 and len(balanced_X) < eq_len or y.iloc[i] == 0:\n",
    "            balanced_X.append(X[i])\n",
    "            balanced_y.append(y.iloc[i])\n",
    "        else:\n",
    "            validation_X.append(X[i])\n",
    "            validation_y.append(y.iloc[i])\n",
    "\n",
    "    return np.array(balanced_X), np.array(balanced_y), np.array(validation_X), np.array(validation_y)"
   ]
  },
  {
   "cell_type": "code",
   "execution_count": 343,
   "metadata": {},
   "outputs": [],
   "source": [
    "balanced_X, balanced_y, validation_X, validation_y = split_balanced_and_validation(X, y)"
   ]
  },
  {
   "cell_type": "code",
   "execution_count": 344,
   "metadata": {},
   "outputs": [
    {
     "data": {
      "text/plain": [
       "(920, 920)"
      ]
     },
     "execution_count": 344,
     "metadata": {},
     "output_type": "execute_result"
    }
   ],
   "source": [
    "len(balanced_X), len(balanced_y)"
   ]
  },
  {
   "cell_type": "markdown",
   "metadata": {},
   "source": [
    "## Визуализация"
   ]
  },
  {
   "cell_type": "code",
   "execution_count": 345,
   "metadata": {},
   "outputs": [
    {
     "data": {
      "image/png": "[encoded data removed]",
      "text/plain": [
       "<Figure size 1000x1000 with 1 Axes>"
      ]
     },
     "metadata": {},
     "output_type": "display_data"
    }
   ],
   "source": [
    "tsne = TSNE(n_components=2)\n",
    "X_embedded = tsne.fit_transform(balanced_X)\n",
    "plt.figure(figsize=(10, 10))\n",
    "plt.scatter(X_embedded[:, 0], X_embedded[:, 1], c = balanced_y)\n",
    "plt.show()"
   ]
  },
  {
   "cell_type": "markdown",
   "metadata": {},
   "source": [
    "## Обучение"
   ]
  },
  {
   "cell_type": "code",
   "execution_count": 346,
   "metadata": {},
   "outputs": [
    {
     "data": {
      "text/plain": [
       "(621, 207, 92)"
      ]
     },
     "execution_count": 346,
     "metadata": {},
     "output_type": "execute_result"
    }
   ],
   "source": [
    "X_train, X_test, y_train, y_test = train_test_split(balanced_X, balanced_y, test_size=0.1)\n",
    "X_train, X_val, y_train, y_val = train_test_split(X_train, y_train, test_size=0.25)\n",
    "len(X_train), len(X_val), len(X_test)"
   ]
  },
  {
   "cell_type": "code",
   "execution_count": 347,
   "metadata": {},
   "outputs": [
    {
     "name": "stdout",
     "output_type": "stream",
     "text": [
      "0.6756693503089308\n"
     ]
    }
   ],
   "source": [
    "param_grid = {\n",
    "    'n_neighbors': np.arange(1, 10, 1),\n",
    "}\n",
    "\n",
    "search = GridSearchCV(KNeighborsClassifier(), param_grid=param_grid, scoring='balanced_accuracy')\n",
    "search.fit(X_train, y_train)\n",
    "y_pred = search.predict(X_val)\n",
    "print(balanced_accuracy_score(y_val, y_pred))"
   ]
  },
  {
   "cell_type": "code",
   "execution_count": 348,
   "metadata": {},
   "outputs": [
    {
     "name": "stdout",
     "output_type": "stream",
     "text": [
      "0.5335697399527186\n"
     ]
    }
   ],
   "source": [
    "y_pred = search.predict(X_test)\n",
    "print(balanced_accuracy_score(y_test, y_pred))"
   ]
  },
  {
   "cell_type": "markdown",
   "metadata": {},
   "source": [
    "## Результат на отложенных данных"
   ]
  },
  {
   "cell_type": "code",
   "execution_count": 349,
   "metadata": {},
   "outputs": [
    {
     "data": {
      "image/png": "[encoded data removed]",
      "text/plain": [
       "<Figure size 1000x1000 with 1 Axes>"
      ]
     },
     "metadata": {},
     "output_type": "display_data"
    }
   ],
   "source": [
    "validation_X, validation_y\n",
    "\n",
    "validation_X_embedded = tsne.fit_transform(validation_X)\n",
    "plt.figure(figsize=(10, 10))\n",
    "plt.scatter(validation_X_embedded[:, 0], validation_X_embedded[:, 1], c = validation_y)\n",
    "plt.show()"
   ]
  },
  {
   "cell_type": "code",
   "execution_count": 350,
   "metadata": {},
   "outputs": [
    {
     "name": "stdout",
     "output_type": "stream",
     "text": [
      "0.42736486486486486\n"
     ]
    },
    {
     "name": "stderr",
     "output_type": "stream",
     "text": [
      "/home/maga/.local/lib/python3.12/site-packages/sklearn/metrics/_classification.py:2399: UserWarning: y_pred contains classes not in y_true\n",
      "  warnings.warn(\"y_pred contains classes not in y_true\")\n"
     ]
    }
   ],
   "source": [
    "y_pred = search.predict(validation_X)\n",
    "print(balanced_accuracy_score(validation_y, y_pred)) "
   ]
  },
  {
   "cell_type": "markdown",
   "metadata": {},
   "source": [
    "## Результат на несбалансированных данных"
   ]
  },
  {
   "cell_type": "code",
   "execution_count": 351,
   "metadata": {},
   "outputs": [
    {
     "data": {
      "text/plain": [
       "(1020, 340, 152)"
      ]
     },
     "execution_count": 351,
     "metadata": {},
     "output_type": "execute_result"
    }
   ],
   "source": [
    "X_train, X_test, y_train, y_test = train_test_split(X, y, test_size=0.1)\n",
    "X_train, X_val, y_train, y_val = train_test_split(X_train, y_train, test_size=0.25)\n",
    "len(X_train), len(X_val), len(X_test)"
   ]
  },
  {
   "cell_type": "code",
   "execution_count": 352,
   "metadata": {},
   "outputs": [
    {
     "data": {
      "text/html": [
       "<style>#sk-container-id-14 {color: black;}#sk-container-id-14 pre{padding: 0;}#sk-container-id-14 div.sk-toggleable {background-color: white;}#sk-container-id-14 label.sk-toggleable__label {cursor: pointer;display: block;width: 100%;margin-bottom: 0;padding: 0.3em;box-sizing: border-box;text-align: center;}#sk-container-id-14 label.sk-toggleable__label-arrow:before {content: \"▸\";float: left;margin-right: 0.25em;color: #696969;}#sk-container-id-14 label.sk-toggleable__label-arrow:hover:before {color: black;}#sk-container-id-14 div.sk-estimator:hover label.sk-toggleable__label-arrow:before {color: black;}#sk-container-id-14 div.sk-toggleable__content {max-height: 0;max-width: 0;overflow: hidden;text-align: left;background-color: #f0f8ff;}#sk-container-id-14 div.sk-toggleable__content pre {margin: 0.2em;color: black;border-radius: 0.25em;background-color: #f0f8ff;}#sk-container-id-14 input.sk-toggleable__control:checked~div.sk-toggleable__content {max-height: 200px;max-width: 100%;overflow: auto;}#sk-container-id-14 input.sk-toggleable__control:checked~label.sk-toggleable__label-arrow:before {content: \"▾\";}#sk-container-id-14 div.sk-estimator input.sk-toggleable__control:checked~label.sk-toggleable__label {background-color: #d4ebff;}#sk-container-id-14 div.sk-label input.sk-toggleable__control:checked~label.sk-toggleable__label {background-color: #d4ebff;}#sk-container-id-14 input.sk-hidden--visually {border: 0;clip: rect(1px 1px 1px 1px);clip: rect(1px, 1px, 1px, 1px);height: 1px;margin: -1px;overflow: hidden;padding: 0;position: absolute;width: 1px;}#sk-container-id-14 div.sk-estimator {font-family: monospace;background-color: #f0f8ff;border: 1px dotted black;border-radius: 0.25em;box-sizing: border-box;margin-bottom: 0.5em;}#sk-container-id-14 div.sk-estimator:hover {background-color: #d4ebff;}#sk-container-id-14 div.sk-parallel-item::after {content: \"\";width: 100%;border-bottom: 1px solid gray;flex-grow: 1;}#sk-container-id-14 div.sk-label:hover label.sk-toggleable__label {background-color: #d4ebff;}#sk-container-id-14 div.sk-serial::before {content: \"\";position: absolute;border-left: 1px solid gray;box-sizing: border-box;top: 0;bottom: 0;left: 50%;z-index: 0;}#sk-container-id-14 div.sk-serial {display: flex;flex-direction: column;align-items: center;background-color: white;padding-right: 0.2em;padding-left: 0.2em;position: relative;}#sk-container-id-14 div.sk-item {position: relative;z-index: 1;}#sk-container-id-14 div.sk-parallel {display: flex;align-items: stretch;justify-content: center;background-color: white;position: relative;}#sk-container-id-14 div.sk-item::before, #sk-container-id-14 div.sk-parallel-item::before {content: \"\";position: absolute;border-left: 1px solid gray;box-sizing: border-box;top: 0;bottom: 0;left: 50%;z-index: -1;}#sk-container-id-14 div.sk-parallel-item {display: flex;flex-direction: column;z-index: 1;position: relative;background-color: white;}#sk-container-id-14 div.sk-parallel-item:first-child::after {align-self: flex-end;width: 50%;}#sk-container-id-14 div.sk-parallel-item:last-child::after {align-self: flex-start;width: 50%;}#sk-container-id-14 div.sk-parallel-item:only-child::after {width: 0;}#sk-container-id-14 div.sk-dashed-wrapped {border: 1px dashed gray;margin: 0 0.4em 0.5em 0.4em;box-sizing: border-box;padding-bottom: 0.4em;background-color: white;}#sk-container-id-14 div.sk-label label {font-family: monospace;font-weight: bold;display: inline-block;line-height: 1.2em;}#sk-container-id-14 div.sk-label-container {text-align: center;}#sk-container-id-14 div.sk-container {/* jupyter's `normalize.less` sets `[hidden] { display: none; }` but bootstrap.min.css set `[hidden] { display: none !important; }` so we also need the `!important` here to be able to override the default hidden behavior on the sphinx rendered scikit-learn.org. See: https://github.com/scikit-learn/scikit-learn/issues/21755 */display: inline-block !important;position: relative;}#sk-container-id-14 div.sk-text-repr-fallback {display: none;}</style><div id=\"sk-container-id-14\" class=\"sk-top-container\"><div class=\"sk-text-repr-fallback\"><pre>GridSearchCV(estimator=KNeighborsClassifier(),\n",
       "             param_grid={&#x27;n_neighbors&#x27;: array([1, 2, 3, 4, 5, 6, 7, 8, 9])},\n",
       "             scoring=&#x27;balanced_accuracy&#x27;)</pre><b>In a Jupyter environment, please rerun this cell to show the HTML representation or trust the notebook. <br />On GitHub, the HTML representation is unable to render, please try loading this page with nbviewer.org.</b></div><div class=\"sk-container\" hidden><div class=\"sk-item sk-dashed-wrapped\"><div class=\"sk-label-container\"><div class=\"sk-label sk-toggleable\"><input class=\"sk-toggleable__control sk-hidden--visually\" id=\"sk-estimator-id-30\" type=\"checkbox\" ><label for=\"sk-estimator-id-30\" class=\"sk-toggleable__label sk-toggleable__label-arrow\">GridSearchCV</label><div class=\"sk-toggleable__content\"><pre>GridSearchCV(estimator=KNeighborsClassifier(),\n",
       "             param_grid={&#x27;n_neighbors&#x27;: array([1, 2, 3, 4, 5, 6, 7, 8, 9])},\n",
       "             scoring=&#x27;balanced_accuracy&#x27;)</pre></div></div></div><div class=\"sk-parallel\"><div class=\"sk-parallel-item\"><div class=\"sk-item\"><div class=\"sk-label-container\"><div class=\"sk-label sk-toggleable\"><input class=\"sk-toggleable__control sk-hidden--visually\" id=\"sk-estimator-id-31\" type=\"checkbox\" ><label for=\"sk-estimator-id-31\" class=\"sk-toggleable__label sk-toggleable__label-arrow\">estimator: KNeighborsClassifier</label><div class=\"sk-toggleable__content\"><pre>KNeighborsClassifier()</pre></div></div></div><div class=\"sk-serial\"><div class=\"sk-item\"><div class=\"sk-estimator sk-toggleable\"><input class=\"sk-toggleable__control sk-hidden--visually\" id=\"sk-estimator-id-32\" type=\"checkbox\" ><label for=\"sk-estimator-id-32\" class=\"sk-toggleable__label sk-toggleable__label-arrow\">KNeighborsClassifier</label><div class=\"sk-toggleable__content\"><pre>KNeighborsClassifier()</pre></div></div></div></div></div></div></div></div></div></div>"
      ],
      "text/plain": [
       "GridSearchCV(estimator=KNeighborsClassifier(),\n",
       "             param_grid={'n_neighbors': array([1, 2, 3, 4, 5, 6, 7, 8, 9])},\n",
       "             scoring='balanced_accuracy')"
      ]
     },
     "execution_count": 352,
     "metadata": {},
     "output_type": "execute_result"
    }
   ],
   "source": [
    "param_grid = {\n",
    "    'n_neighbors': np.arange(1, 10, 1),\n",
    "}\n",
    "\n",
    "search = GridSearchCV(KNeighborsClassifier(), param_grid=param_grid, scoring='balanced_accuracy')\n",
    "search.fit(X_train, y_train)"
   ]
  },
  {
   "cell_type": "code",
   "execution_count": 353,
   "metadata": {},
   "outputs": [
    {
     "name": "stdout",
     "output_type": "stream",
     "text": [
      "0.5384028095892504\n"
     ]
    }
   ],
   "source": [
    "y_pred = search.predict(X_val)\n",
    "print(balanced_accuracy_score(y_val, y_pred))"
   ]
  },
  {
   "cell_type": "code",
   "execution_count": 354,
   "metadata": {},
   "outputs": [
    {
     "name": "stdout",
     "output_type": "stream",
     "text": [
      "0.5628245067497404\n"
     ]
    }
   ],
   "source": [
    "y_pred = search.predict(X_test)\n",
    "print(balanced_accuracy_score(y_test, y_pred))"
   ]
  },
  {
   "cell_type": "code",
   "execution_count": null,
   "metadata": {},
   "outputs": [],
   "source": []
  }
 ],
 "metadata": {
  "kernelspec": {
   "display_name": "Python 3 (ipykernel)",
   "language": "python",
   "name": "python3"
  },
  "language_info": {
   "codemirror_mode": {
    "name": "ipython",
    "version": 3
   },
   "file_extension": ".py",
   "mimetype": "text/x-python",
   "name": "python",
   "nbconvert_exporter": "python",
   "pygments_lexer": "ipython3",
   "version": "3.12.3"
  }
 },
 "nbformat": 4,
 "nbformat_minor": 4
}
